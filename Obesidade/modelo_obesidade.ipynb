{
 "cells": [
  {
   "cell_type": "code",
   "execution_count": 13,
   "metadata": {},
   "outputs": [],
   "source": [
    "# EDA\n",
    "import pandas as pd\n",
    "import statsmodels.api as sm\n",
    "import plotly.express as px\n",
    "import plotly.figure_factory as ff\n",
    "import matplotlib.pyplot as plt\n",
    "#import sweetviz as sv\n",
    "\n",
    "# ML\n",
    "from sklearn.model_selection import train_test_split\n",
    "from sklearn.feature_selection import SelectKBest, chi2\n",
    "from sklearn.naive_bayes import GaussianNB\n",
    "from sklearn.metrics import classification_report, confusion_matrix, ConfusionMatrixDisplay, recall_score\n",
    "\n",
    "# Otimização de Hiperparâmetros\n",
    "import optuna"
   ]
  },
  {
   "cell_type": "code",
   "execution_count": 23,
   "metadata": {},
   "outputs": [],
   "source": [
    "# Carregar Dataset\n",
    "df_obesidade = pd.read_csv('./dataset/obesidade.csv')"
   ]
  },
  {
   "cell_type": "code",
   "execution_count": 24,
   "metadata": {},
   "outputs": [
    {
     "data": {
      "text/html": [
       "<div>\n",
       "<style scoped>\n",
       "    .dataframe tbody tr th:only-of-type {\n",
       "        vertical-align: middle;\n",
       "    }\n",
       "\n",
       "    .dataframe tbody tr th {\n",
       "        vertical-align: top;\n",
       "    }\n",
       "\n",
       "    .dataframe thead th {\n",
       "        text-align: right;\n",
       "    }\n",
       "</style>\n",
       "<table border=\"1\" class=\"dataframe\">\n",
       "  <thead>\n",
       "    <tr style=\"text-align: right;\">\n",
       "      <th></th>\n",
       "      <th>Genero_Masculino</th>\n",
       "      <th>Idade</th>\n",
       "      <th>Historico_Familiar_Sobrepeso</th>\n",
       "      <th>Consumo_Alta_Caloria_Com_Frequencia</th>\n",
       "      <th>Consumo_Vegetais_Com_Frequencia</th>\n",
       "      <th>Refeicoes_Dia</th>\n",
       "      <th>Consumo_Alimentos_entre_Refeicoes</th>\n",
       "      <th>Fumante</th>\n",
       "      <th>Consumo_Agua</th>\n",
       "      <th>Monitora_Calorias_Ingeridas</th>\n",
       "      <th>Nivel_Atividade_Fisica</th>\n",
       "      <th>Nivel_Uso_Tela</th>\n",
       "      <th>Consumo_Alcool</th>\n",
       "      <th>Transporte_Automovel</th>\n",
       "      <th>Transporte_Bicicleta</th>\n",
       "      <th>Transporte_Motocicleta</th>\n",
       "      <th>Transporte_Publico</th>\n",
       "      <th>Transporte_Caminhada</th>\n",
       "      <th>Obesidade</th>\n",
       "    </tr>\n",
       "  </thead>\n",
       "  <tbody>\n",
       "    <tr>\n",
       "      <th>0</th>\n",
       "      <td>0</td>\n",
       "      <td>21.0</td>\n",
       "      <td>1</td>\n",
       "      <td>0</td>\n",
       "      <td>2.0</td>\n",
       "      <td>3.0</td>\n",
       "      <td>1</td>\n",
       "      <td>0</td>\n",
       "      <td>2.0</td>\n",
       "      <td>0</td>\n",
       "      <td>0.0</td>\n",
       "      <td>1.0</td>\n",
       "      <td>0</td>\n",
       "      <td>0</td>\n",
       "      <td>0</td>\n",
       "      <td>0</td>\n",
       "      <td>1</td>\n",
       "      <td>0</td>\n",
       "      <td>0</td>\n",
       "    </tr>\n",
       "    <tr>\n",
       "      <th>1</th>\n",
       "      <td>0</td>\n",
       "      <td>21.0</td>\n",
       "      <td>1</td>\n",
       "      <td>0</td>\n",
       "      <td>3.0</td>\n",
       "      <td>3.0</td>\n",
       "      <td>1</td>\n",
       "      <td>1</td>\n",
       "      <td>3.0</td>\n",
       "      <td>1</td>\n",
       "      <td>3.0</td>\n",
       "      <td>0.0</td>\n",
       "      <td>1</td>\n",
       "      <td>0</td>\n",
       "      <td>0</td>\n",
       "      <td>0</td>\n",
       "      <td>1</td>\n",
       "      <td>0</td>\n",
       "      <td>0</td>\n",
       "    </tr>\n",
       "    <tr>\n",
       "      <th>2</th>\n",
       "      <td>1</td>\n",
       "      <td>23.0</td>\n",
       "      <td>1</td>\n",
       "      <td>0</td>\n",
       "      <td>2.0</td>\n",
       "      <td>3.0</td>\n",
       "      <td>1</td>\n",
       "      <td>0</td>\n",
       "      <td>2.0</td>\n",
       "      <td>0</td>\n",
       "      <td>2.0</td>\n",
       "      <td>1.0</td>\n",
       "      <td>2</td>\n",
       "      <td>0</td>\n",
       "      <td>0</td>\n",
       "      <td>0</td>\n",
       "      <td>1</td>\n",
       "      <td>0</td>\n",
       "      <td>0</td>\n",
       "    </tr>\n",
       "    <tr>\n",
       "      <th>3</th>\n",
       "      <td>1</td>\n",
       "      <td>27.0</td>\n",
       "      <td>0</td>\n",
       "      <td>0</td>\n",
       "      <td>3.0</td>\n",
       "      <td>3.0</td>\n",
       "      <td>1</td>\n",
       "      <td>0</td>\n",
       "      <td>2.0</td>\n",
       "      <td>0</td>\n",
       "      <td>2.0</td>\n",
       "      <td>0.0</td>\n",
       "      <td>2</td>\n",
       "      <td>0</td>\n",
       "      <td>0</td>\n",
       "      <td>0</td>\n",
       "      <td>0</td>\n",
       "      <td>1</td>\n",
       "      <td>0</td>\n",
       "    </tr>\n",
       "    <tr>\n",
       "      <th>4</th>\n",
       "      <td>1</td>\n",
       "      <td>22.0</td>\n",
       "      <td>0</td>\n",
       "      <td>0</td>\n",
       "      <td>2.0</td>\n",
       "      <td>1.0</td>\n",
       "      <td>1</td>\n",
       "      <td>0</td>\n",
       "      <td>2.0</td>\n",
       "      <td>0</td>\n",
       "      <td>0.0</td>\n",
       "      <td>0.0</td>\n",
       "      <td>1</td>\n",
       "      <td>0</td>\n",
       "      <td>0</td>\n",
       "      <td>0</td>\n",
       "      <td>1</td>\n",
       "      <td>0</td>\n",
       "      <td>0</td>\n",
       "    </tr>\n",
       "  </tbody>\n",
       "</table>\n",
       "</div>"
      ],
      "text/plain": [
       "   Genero_Masculino  Idade  Historico_Familiar_Sobrepeso  \\\n",
       "0                 0   21.0                             1   \n",
       "1                 0   21.0                             1   \n",
       "2                 1   23.0                             1   \n",
       "3                 1   27.0                             0   \n",
       "4                 1   22.0                             0   \n",
       "\n",
       "   Consumo_Alta_Caloria_Com_Frequencia  Consumo_Vegetais_Com_Frequencia  \\\n",
       "0                                    0                              2.0   \n",
       "1                                    0                              3.0   \n",
       "2                                    0                              2.0   \n",
       "3                                    0                              3.0   \n",
       "4                                    0                              2.0   \n",
       "\n",
       "   Refeicoes_Dia  Consumo_Alimentos_entre_Refeicoes  Fumante  Consumo_Agua  \\\n",
       "0            3.0                                  1        0           2.0   \n",
       "1            3.0                                  1        1           3.0   \n",
       "2            3.0                                  1        0           2.0   \n",
       "3            3.0                                  1        0           2.0   \n",
       "4            1.0                                  1        0           2.0   \n",
       "\n",
       "   Monitora_Calorias_Ingeridas  Nivel_Atividade_Fisica  Nivel_Uso_Tela  \\\n",
       "0                            0                     0.0             1.0   \n",
       "1                            1                     3.0             0.0   \n",
       "2                            0                     2.0             1.0   \n",
       "3                            0                     2.0             0.0   \n",
       "4                            0                     0.0             0.0   \n",
       "\n",
       "   Consumo_Alcool  Transporte_Automovel  Transporte_Bicicleta  \\\n",
       "0               0                     0                     0   \n",
       "1               1                     0                     0   \n",
       "2               2                     0                     0   \n",
       "3               2                     0                     0   \n",
       "4               1                     0                     0   \n",
       "\n",
       "   Transporte_Motocicleta  Transporte_Publico  Transporte_Caminhada  Obesidade  \n",
       "0                       0                   1                     0          0  \n",
       "1                       0                   1                     0          0  \n",
       "2                       0                   1                     0          0  \n",
       "3                       0                   0                     1          0  \n",
       "4                       0                   1                     0          0  "
      ]
     },
     "execution_count": 24,
     "metadata": {},
     "output_type": "execute_result"
    }
   ],
   "source": [
    "# Mostrar os primeiros registros do Dataframe\n",
    "df_obesidade.head(5)"
   ]
  },
  {
   "cell_type": "code",
   "execution_count": 25,
   "metadata": {},
   "outputs": [
    {
     "data": {
      "text/html": [
       "<div>\n",
       "<style scoped>\n",
       "    .dataframe tbody tr th:only-of-type {\n",
       "        vertical-align: middle;\n",
       "    }\n",
       "\n",
       "    .dataframe tbody tr th {\n",
       "        vertical-align: top;\n",
       "    }\n",
       "\n",
       "    .dataframe thead th {\n",
       "        text-align: right;\n",
       "    }\n",
       "</style>\n",
       "<table border=\"1\" class=\"dataframe\">\n",
       "  <thead>\n",
       "    <tr style=\"text-align: right;\">\n",
       "      <th></th>\n",
       "      <th>Genero_Masculino</th>\n",
       "      <th>Idade</th>\n",
       "      <th>Historico_Familiar_Sobrepeso</th>\n",
       "      <th>Consumo_Alta_Caloria_Com_Frequencia</th>\n",
       "      <th>Consumo_Vegetais_Com_Frequencia</th>\n",
       "      <th>Refeicoes_Dia</th>\n",
       "      <th>Consumo_Alimentos_entre_Refeicoes</th>\n",
       "      <th>Fumante</th>\n",
       "      <th>Consumo_Agua</th>\n",
       "      <th>Monitora_Calorias_Ingeridas</th>\n",
       "      <th>Nivel_Atividade_Fisica</th>\n",
       "      <th>Nivel_Uso_Tela</th>\n",
       "      <th>Consumo_Alcool</th>\n",
       "      <th>Transporte_Automovel</th>\n",
       "      <th>Transporte_Bicicleta</th>\n",
       "      <th>Transporte_Motocicleta</th>\n",
       "      <th>Transporte_Publico</th>\n",
       "      <th>Transporte_Caminhada</th>\n",
       "      <th>Obesidade</th>\n",
       "    </tr>\n",
       "  </thead>\n",
       "  <tbody>\n",
       "    <tr>\n",
       "      <th>2106</th>\n",
       "      <td>0</td>\n",
       "      <td>20.976842</td>\n",
       "      <td>1</td>\n",
       "      <td>1</td>\n",
       "      <td>3.0</td>\n",
       "      <td>3.0</td>\n",
       "      <td>1</td>\n",
       "      <td>0</td>\n",
       "      <td>1.728139</td>\n",
       "      <td>0</td>\n",
       "      <td>1.676269</td>\n",
       "      <td>0.906247</td>\n",
       "      <td>1</td>\n",
       "      <td>0</td>\n",
       "      <td>0</td>\n",
       "      <td>0</td>\n",
       "      <td>1</td>\n",
       "      <td>0</td>\n",
       "      <td>1</td>\n",
       "    </tr>\n",
       "    <tr>\n",
       "      <th>2107</th>\n",
       "      <td>0</td>\n",
       "      <td>21.982942</td>\n",
       "      <td>1</td>\n",
       "      <td>1</td>\n",
       "      <td>3.0</td>\n",
       "      <td>3.0</td>\n",
       "      <td>1</td>\n",
       "      <td>0</td>\n",
       "      <td>2.005130</td>\n",
       "      <td>0</td>\n",
       "      <td>1.341390</td>\n",
       "      <td>0.599270</td>\n",
       "      <td>1</td>\n",
       "      <td>0</td>\n",
       "      <td>0</td>\n",
       "      <td>0</td>\n",
       "      <td>1</td>\n",
       "      <td>0</td>\n",
       "      <td>1</td>\n",
       "    </tr>\n",
       "    <tr>\n",
       "      <th>2108</th>\n",
       "      <td>0</td>\n",
       "      <td>22.524036</td>\n",
       "      <td>1</td>\n",
       "      <td>1</td>\n",
       "      <td>3.0</td>\n",
       "      <td>3.0</td>\n",
       "      <td>1</td>\n",
       "      <td>0</td>\n",
       "      <td>2.054193</td>\n",
       "      <td>0</td>\n",
       "      <td>1.414209</td>\n",
       "      <td>0.646288</td>\n",
       "      <td>1</td>\n",
       "      <td>0</td>\n",
       "      <td>0</td>\n",
       "      <td>0</td>\n",
       "      <td>1</td>\n",
       "      <td>0</td>\n",
       "      <td>1</td>\n",
       "    </tr>\n",
       "    <tr>\n",
       "      <th>2109</th>\n",
       "      <td>0</td>\n",
       "      <td>24.361936</td>\n",
       "      <td>1</td>\n",
       "      <td>1</td>\n",
       "      <td>3.0</td>\n",
       "      <td>3.0</td>\n",
       "      <td>1</td>\n",
       "      <td>0</td>\n",
       "      <td>2.852339</td>\n",
       "      <td>0</td>\n",
       "      <td>1.139107</td>\n",
       "      <td>0.586035</td>\n",
       "      <td>1</td>\n",
       "      <td>0</td>\n",
       "      <td>0</td>\n",
       "      <td>0</td>\n",
       "      <td>1</td>\n",
       "      <td>0</td>\n",
       "      <td>1</td>\n",
       "    </tr>\n",
       "    <tr>\n",
       "      <th>2110</th>\n",
       "      <td>0</td>\n",
       "      <td>23.664709</td>\n",
       "      <td>1</td>\n",
       "      <td>1</td>\n",
       "      <td>3.0</td>\n",
       "      <td>3.0</td>\n",
       "      <td>1</td>\n",
       "      <td>0</td>\n",
       "      <td>2.863513</td>\n",
       "      <td>0</td>\n",
       "      <td>1.026452</td>\n",
       "      <td>0.714137</td>\n",
       "      <td>1</td>\n",
       "      <td>0</td>\n",
       "      <td>0</td>\n",
       "      <td>0</td>\n",
       "      <td>1</td>\n",
       "      <td>0</td>\n",
       "      <td>1</td>\n",
       "    </tr>\n",
       "  </tbody>\n",
       "</table>\n",
       "</div>"
      ],
      "text/plain": [
       "      Genero_Masculino      Idade  Historico_Familiar_Sobrepeso  \\\n",
       "2106                 0  20.976842                             1   \n",
       "2107                 0  21.982942                             1   \n",
       "2108                 0  22.524036                             1   \n",
       "2109                 0  24.361936                             1   \n",
       "2110                 0  23.664709                             1   \n",
       "\n",
       "      Consumo_Alta_Caloria_Com_Frequencia  Consumo_Vegetais_Com_Frequencia  \\\n",
       "2106                                    1                              3.0   \n",
       "2107                                    1                              3.0   \n",
       "2108                                    1                              3.0   \n",
       "2109                                    1                              3.0   \n",
       "2110                                    1                              3.0   \n",
       "\n",
       "      Refeicoes_Dia  Consumo_Alimentos_entre_Refeicoes  Fumante  Consumo_Agua  \\\n",
       "2106            3.0                                  1        0      1.728139   \n",
       "2107            3.0                                  1        0      2.005130   \n",
       "2108            3.0                                  1        0      2.054193   \n",
       "2109            3.0                                  1        0      2.852339   \n",
       "2110            3.0                                  1        0      2.863513   \n",
       "\n",
       "      Monitora_Calorias_Ingeridas  Nivel_Atividade_Fisica  Nivel_Uso_Tela  \\\n",
       "2106                            0                1.676269        0.906247   \n",
       "2107                            0                1.341390        0.599270   \n",
       "2108                            0                1.414209        0.646288   \n",
       "2109                            0                1.139107        0.586035   \n",
       "2110                            0                1.026452        0.714137   \n",
       "\n",
       "      Consumo_Alcool  Transporte_Automovel  Transporte_Bicicleta  \\\n",
       "2106               1                     0                     0   \n",
       "2107               1                     0                     0   \n",
       "2108               1                     0                     0   \n",
       "2109               1                     0                     0   \n",
       "2110               1                     0                     0   \n",
       "\n",
       "      Transporte_Motocicleta  Transporte_Publico  Transporte_Caminhada  \\\n",
       "2106                       0                   1                     0   \n",
       "2107                       0                   1                     0   \n",
       "2108                       0                   1                     0   \n",
       "2109                       0                   1                     0   \n",
       "2110                       0                   1                     0   \n",
       "\n",
       "      Obesidade  \n",
       "2106          1  \n",
       "2107          1  \n",
       "2108          1  \n",
       "2109          1  \n",
       "2110          1  "
      ]
     },
     "execution_count": 25,
     "metadata": {},
     "output_type": "execute_result"
    }
   ],
   "source": [
    "# Mostrar os ultimos registros do Dataframe\n",
    "df_obesidade.tail(5)"
   ]
  },
  {
   "cell_type": "code",
   "execution_count": 26,
   "metadata": {},
   "outputs": [
    {
     "name": "stdout",
     "output_type": "stream",
     "text": [
      "<class 'pandas.core.frame.DataFrame'>\n",
      "RangeIndex: 2111 entries, 0 to 2110\n",
      "Data columns (total 19 columns):\n",
      " #   Column                               Non-Null Count  Dtype  \n",
      "---  ------                               --------------  -----  \n",
      " 0   Genero_Masculino                     2111 non-null   int64  \n",
      " 1   Idade                                2111 non-null   float64\n",
      " 2   Historico_Familiar_Sobrepeso         2111 non-null   int64  \n",
      " 3   Consumo_Alta_Caloria_Com_Frequencia  2111 non-null   int64  \n",
      " 4   Consumo_Vegetais_Com_Frequencia      2111 non-null   float64\n",
      " 5   Refeicoes_Dia                        2111 non-null   float64\n",
      " 6   Consumo_Alimentos_entre_Refeicoes    2111 non-null   int64  \n",
      " 7   Fumante                              2111 non-null   int64  \n",
      " 8   Consumo_Agua                         2111 non-null   float64\n",
      " 9   Monitora_Calorias_Ingeridas          2111 non-null   int64  \n",
      " 10  Nivel_Atividade_Fisica               2111 non-null   float64\n",
      " 11  Nivel_Uso_Tela                       2111 non-null   float64\n",
      " 12  Consumo_Alcool                       2111 non-null   int64  \n",
      " 13  Transporte_Automovel                 2111 non-null   int64  \n",
      " 14  Transporte_Bicicleta                 2111 non-null   int64  \n",
      " 15  Transporte_Motocicleta               2111 non-null   int64  \n",
      " 16  Transporte_Publico                   2111 non-null   int64  \n",
      " 17  Transporte_Caminhada                 2111 non-null   int64  \n",
      " 18  Obesidade                            2111 non-null   int64  \n",
      "dtypes: float64(6), int64(13)\n",
      "memory usage: 313.5 KB\n"
     ]
    }
   ],
   "source": [
    "# Mostrar estrutura / Schema do Dataframe\n",
    "df_obesidade.info()"
   ]
  },
  {
   "cell_type": "code",
   "execution_count": 27,
   "metadata": {},
   "outputs": [],
   "source": [
    "# Conventer colunas para tipo inteiro\n",
    "lista_colunas = ['Idade', 'Consumo_Vegetais_Com_Frequencia', 'Refeicoes_Dia', 'Consumo_Agua', 'Nivel_Atividade_Fisica', 'Nivel_Uso_Tela']\n",
    "\n",
    "df_obesidade[lista_colunas] = df_obesidade[lista_colunas].astype(int)"
   ]
  },
  {
   "cell_type": "code",
   "execution_count": 28,
   "metadata": {},
   "outputs": [
    {
     "data": {
      "text/plain": [
       "Genero_Masculino                       0\n",
       "Idade                                  0\n",
       "Historico_Familiar_Sobrepeso           0\n",
       "Consumo_Alta_Caloria_Com_Frequencia    0\n",
       "Consumo_Vegetais_Com_Frequencia        0\n",
       "Refeicoes_Dia                          0\n",
       "Consumo_Alimentos_entre_Refeicoes      0\n",
       "Fumante                                0\n",
       "Consumo_Agua                           0\n",
       "Monitora_Calorias_Ingeridas            0\n",
       "Nivel_Atividade_Fisica                 0\n",
       "Nivel_Uso_Tela                         0\n",
       "Consumo_Alcool                         0\n",
       "Transporte_Automovel                   0\n",
       "Transporte_Bicicleta                   0\n",
       "Transporte_Motocicleta                 0\n",
       "Transporte_Publico                     0\n",
       "Transporte_Caminhada                   0\n",
       "Obesidade                              0\n",
       "dtype: int64"
      ]
     },
     "execution_count": 28,
     "metadata": {},
     "output_type": "execute_result"
    }
   ],
   "source": [
    "# Detectar valores ausentes\n",
    "df_obesidade.isna().sum()"
   ]
  },
  {
   "cell_type": "markdown",
   "metadata": {},
   "source": [
    "### EDA"
   ]
  },
  {
   "cell_type": "code",
   "execution_count": 29,
   "metadata": {},
   "outputs": [
    {
     "data": {
      "application/vnd.plotly.v1+json": {
       "config": {
        "plotlyServerURL": "https://plot.ly"
       },
       "data": [
        {
         "alignmentgroup": "True",
         "hovertemplate": "variable=count<br>Obesidade=%{x}<br>value=%{y}<extra></extra>",
         "legendgroup": "count",
         "marker": {
          "color": "#636efa",
          "pattern": {
           "shape": ""
          }
         },
         "name": "count",
         "offsetgroup": "count",
         "orientation": "v",
         "showlegend": true,
         "textposition": "auto",
         "type": "bar",
         "x": [
          0,
          1
         ],
         "xaxis": "x",
         "y": [
          1139,
          972
         ],
         "yaxis": "y"
        }
       ],
       "layout": {
        "barmode": "relative",
        "legend": {
         "title": {
          "text": "variable"
         },
         "tracegroupgap": 0
        },
        "margin": {
         "t": 60
        },
        "template": {
         "data": {
          "bar": [
           {
            "error_x": {
             "color": "#2a3f5f"
            },
            "error_y": {
             "color": "#2a3f5f"
            },
            "marker": {
             "line": {
              "color": "#E5ECF6",
              "width": 0.5
             },
             "pattern": {
              "fillmode": "overlay",
              "size": 10,
              "solidity": 0.2
             }
            },
            "type": "bar"
           }
          ],
          "barpolar": [
           {
            "marker": {
             "line": {
              "color": "#E5ECF6",
              "width": 0.5
             },
             "pattern": {
              "fillmode": "overlay",
              "size": 10,
              "solidity": 0.2
             }
            },
            "type": "barpolar"
           }
          ],
          "carpet": [
           {
            "aaxis": {
             "endlinecolor": "#2a3f5f",
             "gridcolor": "white",
             "linecolor": "white",
             "minorgridcolor": "white",
             "startlinecolor": "#2a3f5f"
            },
            "baxis": {
             "endlinecolor": "#2a3f5f",
             "gridcolor": "white",
             "linecolor": "white",
             "minorgridcolor": "white",
             "startlinecolor": "#2a3f5f"
            },
            "type": "carpet"
           }
          ],
          "choropleth": [
           {
            "colorbar": {
             "outlinewidth": 0,
             "ticks": ""
            },
            "type": "choropleth"
           }
          ],
          "contour": [
           {
            "colorbar": {
             "outlinewidth": 0,
             "ticks": ""
            },
            "colorscale": [
             [
              0,
              "#0d0887"
             ],
             [
              0.1111111111111111,
              "#46039f"
             ],
             [
              0.2222222222222222,
              "#7201a8"
             ],
             [
              0.3333333333333333,
              "#9c179e"
             ],
             [
              0.4444444444444444,
              "#bd3786"
             ],
             [
              0.5555555555555556,
              "#d8576b"
             ],
             [
              0.6666666666666666,
              "#ed7953"
             ],
             [
              0.7777777777777778,
              "#fb9f3a"
             ],
             [
              0.8888888888888888,
              "#fdca26"
             ],
             [
              1,
              "#f0f921"
             ]
            ],
            "type": "contour"
           }
          ],
          "contourcarpet": [
           {
            "colorbar": {
             "outlinewidth": 0,
             "ticks": ""
            },
            "type": "contourcarpet"
           }
          ],
          "heatmap": [
           {
            "colorbar": {
             "outlinewidth": 0,
             "ticks": ""
            },
            "colorscale": [
             [
              0,
              "#0d0887"
             ],
             [
              0.1111111111111111,
              "#46039f"
             ],
             [
              0.2222222222222222,
              "#7201a8"
             ],
             [
              0.3333333333333333,
              "#9c179e"
             ],
             [
              0.4444444444444444,
              "#bd3786"
             ],
             [
              0.5555555555555556,
              "#d8576b"
             ],
             [
              0.6666666666666666,
              "#ed7953"
             ],
             [
              0.7777777777777778,
              "#fb9f3a"
             ],
             [
              0.8888888888888888,
              "#fdca26"
             ],
             [
              1,
              "#f0f921"
             ]
            ],
            "type": "heatmap"
           }
          ],
          "heatmapgl": [
           {
            "colorbar": {
             "outlinewidth": 0,
             "ticks": ""
            },
            "colorscale": [
             [
              0,
              "#0d0887"
             ],
             [
              0.1111111111111111,
              "#46039f"
             ],
             [
              0.2222222222222222,
              "#7201a8"
             ],
             [
              0.3333333333333333,
              "#9c179e"
             ],
             [
              0.4444444444444444,
              "#bd3786"
             ],
             [
              0.5555555555555556,
              "#d8576b"
             ],
             [
              0.6666666666666666,
              "#ed7953"
             ],
             [
              0.7777777777777778,
              "#fb9f3a"
             ],
             [
              0.8888888888888888,
              "#fdca26"
             ],
             [
              1,
              "#f0f921"
             ]
            ],
            "type": "heatmapgl"
           }
          ],
          "histogram": [
           {
            "marker": {
             "pattern": {
              "fillmode": "overlay",
              "size": 10,
              "solidity": 0.2
             }
            },
            "type": "histogram"
           }
          ],
          "histogram2d": [
           {
            "colorbar": {
             "outlinewidth": 0,
             "ticks": ""
            },
            "colorscale": [
             [
              0,
              "#0d0887"
             ],
             [
              0.1111111111111111,
              "#46039f"
             ],
             [
              0.2222222222222222,
              "#7201a8"
             ],
             [
              0.3333333333333333,
              "#9c179e"
             ],
             [
              0.4444444444444444,
              "#bd3786"
             ],
             [
              0.5555555555555556,
              "#d8576b"
             ],
             [
              0.6666666666666666,
              "#ed7953"
             ],
             [
              0.7777777777777778,
              "#fb9f3a"
             ],
             [
              0.8888888888888888,
              "#fdca26"
             ],
             [
              1,
              "#f0f921"
             ]
            ],
            "type": "histogram2d"
           }
          ],
          "histogram2dcontour": [
           {
            "colorbar": {
             "outlinewidth": 0,
             "ticks": ""
            },
            "colorscale": [
             [
              0,
              "#0d0887"
             ],
             [
              0.1111111111111111,
              "#46039f"
             ],
             [
              0.2222222222222222,
              "#7201a8"
             ],
             [
              0.3333333333333333,
              "#9c179e"
             ],
             [
              0.4444444444444444,
              "#bd3786"
             ],
             [
              0.5555555555555556,
              "#d8576b"
             ],
             [
              0.6666666666666666,
              "#ed7953"
             ],
             [
              0.7777777777777778,
              "#fb9f3a"
             ],
             [
              0.8888888888888888,
              "#fdca26"
             ],
             [
              1,
              "#f0f921"
             ]
            ],
            "type": "histogram2dcontour"
           }
          ],
          "mesh3d": [
           {
            "colorbar": {
             "outlinewidth": 0,
             "ticks": ""
            },
            "type": "mesh3d"
           }
          ],
          "parcoords": [
           {
            "line": {
             "colorbar": {
              "outlinewidth": 0,
              "ticks": ""
             }
            },
            "type": "parcoords"
           }
          ],
          "pie": [
           {
            "automargin": true,
            "type": "pie"
           }
          ],
          "scatter": [
           {
            "fillpattern": {
             "fillmode": "overlay",
             "size": 10,
             "solidity": 0.2
            },
            "type": "scatter"
           }
          ],
          "scatter3d": [
           {
            "line": {
             "colorbar": {
              "outlinewidth": 0,
              "ticks": ""
             }
            },
            "marker": {
             "colorbar": {
              "outlinewidth": 0,
              "ticks": ""
             }
            },
            "type": "scatter3d"
           }
          ],
          "scattercarpet": [
           {
            "marker": {
             "colorbar": {
              "outlinewidth": 0,
              "ticks": ""
             }
            },
            "type": "scattercarpet"
           }
          ],
          "scattergeo": [
           {
            "marker": {
             "colorbar": {
              "outlinewidth": 0,
              "ticks": ""
             }
            },
            "type": "scattergeo"
           }
          ],
          "scattergl": [
           {
            "marker": {
             "colorbar": {
              "outlinewidth": 0,
              "ticks": ""
             }
            },
            "type": "scattergl"
           }
          ],
          "scattermapbox": [
           {
            "marker": {
             "colorbar": {
              "outlinewidth": 0,
              "ticks": ""
             }
            },
            "type": "scattermapbox"
           }
          ],
          "scatterpolar": [
           {
            "marker": {
             "colorbar": {
              "outlinewidth": 0,
              "ticks": ""
             }
            },
            "type": "scatterpolar"
           }
          ],
          "scatterpolargl": [
           {
            "marker": {
             "colorbar": {
              "outlinewidth": 0,
              "ticks": ""
             }
            },
            "type": "scatterpolargl"
           }
          ],
          "scatterternary": [
           {
            "marker": {
             "colorbar": {
              "outlinewidth": 0,
              "ticks": ""
             }
            },
            "type": "scatterternary"
           }
          ],
          "surface": [
           {
            "colorbar": {
             "outlinewidth": 0,
             "ticks": ""
            },
            "colorscale": [
             [
              0,
              "#0d0887"
             ],
             [
              0.1111111111111111,
              "#46039f"
             ],
             [
              0.2222222222222222,
              "#7201a8"
             ],
             [
              0.3333333333333333,
              "#9c179e"
             ],
             [
              0.4444444444444444,
              "#bd3786"
             ],
             [
              0.5555555555555556,
              "#d8576b"
             ],
             [
              0.6666666666666666,
              "#ed7953"
             ],
             [
              0.7777777777777778,
              "#fb9f3a"
             ],
             [
              0.8888888888888888,
              "#fdca26"
             ],
             [
              1,
              "#f0f921"
             ]
            ],
            "type": "surface"
           }
          ],
          "table": [
           {
            "cells": {
             "fill": {
              "color": "#EBF0F8"
             },
             "line": {
              "color": "white"
             }
            },
            "header": {
             "fill": {
              "color": "#C8D4E3"
             },
             "line": {
              "color": "white"
             }
            },
            "type": "table"
           }
          ]
         },
         "layout": {
          "annotationdefaults": {
           "arrowcolor": "#2a3f5f",
           "arrowhead": 0,
           "arrowwidth": 1
          },
          "autotypenumbers": "strict",
          "coloraxis": {
           "colorbar": {
            "outlinewidth": 0,
            "ticks": ""
           }
          },
          "colorscale": {
           "diverging": [
            [
             0,
             "#8e0152"
            ],
            [
             0.1,
             "#c51b7d"
            ],
            [
             0.2,
             "#de77ae"
            ],
            [
             0.3,
             "#f1b6da"
            ],
            [
             0.4,
             "#fde0ef"
            ],
            [
             0.5,
             "#f7f7f7"
            ],
            [
             0.6,
             "#e6f5d0"
            ],
            [
             0.7,
             "#b8e186"
            ],
            [
             0.8,
             "#7fbc41"
            ],
            [
             0.9,
             "#4d9221"
            ],
            [
             1,
             "#276419"
            ]
           ],
           "sequential": [
            [
             0,
             "#0d0887"
            ],
            [
             0.1111111111111111,
             "#46039f"
            ],
            [
             0.2222222222222222,
             "#7201a8"
            ],
            [
             0.3333333333333333,
             "#9c179e"
            ],
            [
             0.4444444444444444,
             "#bd3786"
            ],
            [
             0.5555555555555556,
             "#d8576b"
            ],
            [
             0.6666666666666666,
             "#ed7953"
            ],
            [
             0.7777777777777778,
             "#fb9f3a"
            ],
            [
             0.8888888888888888,
             "#fdca26"
            ],
            [
             1,
             "#f0f921"
            ]
           ],
           "sequentialminus": [
            [
             0,
             "#0d0887"
            ],
            [
             0.1111111111111111,
             "#46039f"
            ],
            [
             0.2222222222222222,
             "#7201a8"
            ],
            [
             0.3333333333333333,
             "#9c179e"
            ],
            [
             0.4444444444444444,
             "#bd3786"
            ],
            [
             0.5555555555555556,
             "#d8576b"
            ],
            [
             0.6666666666666666,
             "#ed7953"
            ],
            [
             0.7777777777777778,
             "#fb9f3a"
            ],
            [
             0.8888888888888888,
             "#fdca26"
            ],
            [
             1,
             "#f0f921"
            ]
           ]
          },
          "colorway": [
           "#636efa",
           "#EF553B",
           "#00cc96",
           "#ab63fa",
           "#FFA15A",
           "#19d3f3",
           "#FF6692",
           "#B6E880",
           "#FF97FF",
           "#FECB52"
          ],
          "font": {
           "color": "#2a3f5f"
          },
          "geo": {
           "bgcolor": "white",
           "lakecolor": "white",
           "landcolor": "#E5ECF6",
           "showlakes": true,
           "showland": true,
           "subunitcolor": "white"
          },
          "hoverlabel": {
           "align": "left"
          },
          "hovermode": "closest",
          "mapbox": {
           "style": "light"
          },
          "paper_bgcolor": "white",
          "plot_bgcolor": "#E5ECF6",
          "polar": {
           "angularaxis": {
            "gridcolor": "white",
            "linecolor": "white",
            "ticks": ""
           },
           "bgcolor": "#E5ECF6",
           "radialaxis": {
            "gridcolor": "white",
            "linecolor": "white",
            "ticks": ""
           }
          },
          "scene": {
           "xaxis": {
            "backgroundcolor": "#E5ECF6",
            "gridcolor": "white",
            "gridwidth": 2,
            "linecolor": "white",
            "showbackground": true,
            "ticks": "",
            "zerolinecolor": "white"
           },
           "yaxis": {
            "backgroundcolor": "#E5ECF6",
            "gridcolor": "white",
            "gridwidth": 2,
            "linecolor": "white",
            "showbackground": true,
            "ticks": "",
            "zerolinecolor": "white"
           },
           "zaxis": {
            "backgroundcolor": "#E5ECF6",
            "gridcolor": "white",
            "gridwidth": 2,
            "linecolor": "white",
            "showbackground": true,
            "ticks": "",
            "zerolinecolor": "white"
           }
          },
          "shapedefaults": {
           "line": {
            "color": "#2a3f5f"
           }
          },
          "ternary": {
           "aaxis": {
            "gridcolor": "white",
            "linecolor": "white",
            "ticks": ""
           },
           "baxis": {
            "gridcolor": "white",
            "linecolor": "white",
            "ticks": ""
           },
           "bgcolor": "#E5ECF6",
           "caxis": {
            "gridcolor": "white",
            "linecolor": "white",
            "ticks": ""
           }
          },
          "title": {
           "x": 0.05
          },
          "xaxis": {
           "automargin": true,
           "gridcolor": "white",
           "linecolor": "white",
           "ticks": "",
           "title": {
            "standoff": 15
           },
           "zerolinecolor": "white",
           "zerolinewidth": 2
          },
          "yaxis": {
           "automargin": true,
           "gridcolor": "white",
           "linecolor": "white",
           "ticks": "",
           "title": {
            "standoff": 15
           },
           "zerolinecolor": "white",
           "zerolinewidth": 2
          }
         }
        },
        "xaxis": {
         "anchor": "y",
         "domain": [
          0,
          1
         ],
         "title": {
          "text": "Obesidade"
         }
        },
        "yaxis": {
         "anchor": "x",
         "domain": [
          0,
          1
         ],
         "title": {
          "text": "value"
         }
        }
       }
      }
     },
     "metadata": {},
     "output_type": "display_data"
    }
   ],
   "source": [
    "# Distribuição da Variável Target - Obesidade\n",
    "px.bar(df_obesidade.value_counts('Obesidade'))"
   ]
  },
  {
   "cell_type": "code",
   "execution_count": 30,
   "metadata": {},
   "outputs": [
    {
     "data": {
      "application/vnd.plotly.v1+json": {
       "config": {
        "plotlyServerURL": "https://plot.ly"
       },
       "data": [
        {
         "alignmentgroup": "True",
         "hovertemplate": "variable=count<br>Obesidade=%{x}<br>value=%{y}<extra></extra>",
         "legendgroup": "count",
         "marker": {
          "color": "#636efa",
          "pattern": {
           "shape": ""
          }
         },
         "name": "count",
         "offsetgroup": "count",
         "orientation": "v",
         "showlegend": true,
         "textposition": "auto",
         "type": "bar",
         "x": [
          0,
          1
         ],
         "xaxis": "x",
         "y": [
          53.95547134059687,
          46.04452865940313
         ],
         "yaxis": "y"
        }
       ],
       "layout": {
        "barmode": "relative",
        "legend": {
         "title": {
          "text": "variable"
         },
         "tracegroupgap": 0
        },
        "margin": {
         "t": 60
        },
        "template": {
         "data": {
          "bar": [
           {
            "error_x": {
             "color": "#2a3f5f"
            },
            "error_y": {
             "color": "#2a3f5f"
            },
            "marker": {
             "line": {
              "color": "#E5ECF6",
              "width": 0.5
             },
             "pattern": {
              "fillmode": "overlay",
              "size": 10,
              "solidity": 0.2
             }
            },
            "type": "bar"
           }
          ],
          "barpolar": [
           {
            "marker": {
             "line": {
              "color": "#E5ECF6",
              "width": 0.5
             },
             "pattern": {
              "fillmode": "overlay",
              "size": 10,
              "solidity": 0.2
             }
            },
            "type": "barpolar"
           }
          ],
          "carpet": [
           {
            "aaxis": {
             "endlinecolor": "#2a3f5f",
             "gridcolor": "white",
             "linecolor": "white",
             "minorgridcolor": "white",
             "startlinecolor": "#2a3f5f"
            },
            "baxis": {
             "endlinecolor": "#2a3f5f",
             "gridcolor": "white",
             "linecolor": "white",
             "minorgridcolor": "white",
             "startlinecolor": "#2a3f5f"
            },
            "type": "carpet"
           }
          ],
          "choropleth": [
           {
            "colorbar": {
             "outlinewidth": 0,
             "ticks": ""
            },
            "type": "choropleth"
           }
          ],
          "contour": [
           {
            "colorbar": {
             "outlinewidth": 0,
             "ticks": ""
            },
            "colorscale": [
             [
              0,
              "#0d0887"
             ],
             [
              0.1111111111111111,
              "#46039f"
             ],
             [
              0.2222222222222222,
              "#7201a8"
             ],
             [
              0.3333333333333333,
              "#9c179e"
             ],
             [
              0.4444444444444444,
              "#bd3786"
             ],
             [
              0.5555555555555556,
              "#d8576b"
             ],
             [
              0.6666666666666666,
              "#ed7953"
             ],
             [
              0.7777777777777778,
              "#fb9f3a"
             ],
             [
              0.8888888888888888,
              "#fdca26"
             ],
             [
              1,
              "#f0f921"
             ]
            ],
            "type": "contour"
           }
          ],
          "contourcarpet": [
           {
            "colorbar": {
             "outlinewidth": 0,
             "ticks": ""
            },
            "type": "contourcarpet"
           }
          ],
          "heatmap": [
           {
            "colorbar": {
             "outlinewidth": 0,
             "ticks": ""
            },
            "colorscale": [
             [
              0,
              "#0d0887"
             ],
             [
              0.1111111111111111,
              "#46039f"
             ],
             [
              0.2222222222222222,
              "#7201a8"
             ],
             [
              0.3333333333333333,
              "#9c179e"
             ],
             [
              0.4444444444444444,
              "#bd3786"
             ],
             [
              0.5555555555555556,
              "#d8576b"
             ],
             [
              0.6666666666666666,
              "#ed7953"
             ],
             [
              0.7777777777777778,
              "#fb9f3a"
             ],
             [
              0.8888888888888888,
              "#fdca26"
             ],
             [
              1,
              "#f0f921"
             ]
            ],
            "type": "heatmap"
           }
          ],
          "heatmapgl": [
           {
            "colorbar": {
             "outlinewidth": 0,
             "ticks": ""
            },
            "colorscale": [
             [
              0,
              "#0d0887"
             ],
             [
              0.1111111111111111,
              "#46039f"
             ],
             [
              0.2222222222222222,
              "#7201a8"
             ],
             [
              0.3333333333333333,
              "#9c179e"
             ],
             [
              0.4444444444444444,
              "#bd3786"
             ],
             [
              0.5555555555555556,
              "#d8576b"
             ],
             [
              0.6666666666666666,
              "#ed7953"
             ],
             [
              0.7777777777777778,
              "#fb9f3a"
             ],
             [
              0.8888888888888888,
              "#fdca26"
             ],
             [
              1,
              "#f0f921"
             ]
            ],
            "type": "heatmapgl"
           }
          ],
          "histogram": [
           {
            "marker": {
             "pattern": {
              "fillmode": "overlay",
              "size": 10,
              "solidity": 0.2
             }
            },
            "type": "histogram"
           }
          ],
          "histogram2d": [
           {
            "colorbar": {
             "outlinewidth": 0,
             "ticks": ""
            },
            "colorscale": [
             [
              0,
              "#0d0887"
             ],
             [
              0.1111111111111111,
              "#46039f"
             ],
             [
              0.2222222222222222,
              "#7201a8"
             ],
             [
              0.3333333333333333,
              "#9c179e"
             ],
             [
              0.4444444444444444,
              "#bd3786"
             ],
             [
              0.5555555555555556,
              "#d8576b"
             ],
             [
              0.6666666666666666,
              "#ed7953"
             ],
             [
              0.7777777777777778,
              "#fb9f3a"
             ],
             [
              0.8888888888888888,
              "#fdca26"
             ],
             [
              1,
              "#f0f921"
             ]
            ],
            "type": "histogram2d"
           }
          ],
          "histogram2dcontour": [
           {
            "colorbar": {
             "outlinewidth": 0,
             "ticks": ""
            },
            "colorscale": [
             [
              0,
              "#0d0887"
             ],
             [
              0.1111111111111111,
              "#46039f"
             ],
             [
              0.2222222222222222,
              "#7201a8"
             ],
             [
              0.3333333333333333,
              "#9c179e"
             ],
             [
              0.4444444444444444,
              "#bd3786"
             ],
             [
              0.5555555555555556,
              "#d8576b"
             ],
             [
              0.6666666666666666,
              "#ed7953"
             ],
             [
              0.7777777777777778,
              "#fb9f3a"
             ],
             [
              0.8888888888888888,
              "#fdca26"
             ],
             [
              1,
              "#f0f921"
             ]
            ],
            "type": "histogram2dcontour"
           }
          ],
          "mesh3d": [
           {
            "colorbar": {
             "outlinewidth": 0,
             "ticks": ""
            },
            "type": "mesh3d"
           }
          ],
          "parcoords": [
           {
            "line": {
             "colorbar": {
              "outlinewidth": 0,
              "ticks": ""
             }
            },
            "type": "parcoords"
           }
          ],
          "pie": [
           {
            "automargin": true,
            "type": "pie"
           }
          ],
          "scatter": [
           {
            "fillpattern": {
             "fillmode": "overlay",
             "size": 10,
             "solidity": 0.2
            },
            "type": "scatter"
           }
          ],
          "scatter3d": [
           {
            "line": {
             "colorbar": {
              "outlinewidth": 0,
              "ticks": ""
             }
            },
            "marker": {
             "colorbar": {
              "outlinewidth": 0,
              "ticks": ""
             }
            },
            "type": "scatter3d"
           }
          ],
          "scattercarpet": [
           {
            "marker": {
             "colorbar": {
              "outlinewidth": 0,
              "ticks": ""
             }
            },
            "type": "scattercarpet"
           }
          ],
          "scattergeo": [
           {
            "marker": {
             "colorbar": {
              "outlinewidth": 0,
              "ticks": ""
             }
            },
            "type": "scattergeo"
           }
          ],
          "scattergl": [
           {
            "marker": {
             "colorbar": {
              "outlinewidth": 0,
              "ticks": ""
             }
            },
            "type": "scattergl"
           }
          ],
          "scattermapbox": [
           {
            "marker": {
             "colorbar": {
              "outlinewidth": 0,
              "ticks": ""
             }
            },
            "type": "scattermapbox"
           }
          ],
          "scatterpolar": [
           {
            "marker": {
             "colorbar": {
              "outlinewidth": 0,
              "ticks": ""
             }
            },
            "type": "scatterpolar"
           }
          ],
          "scatterpolargl": [
           {
            "marker": {
             "colorbar": {
              "outlinewidth": 0,
              "ticks": ""
             }
            },
            "type": "scatterpolargl"
           }
          ],
          "scatterternary": [
           {
            "marker": {
             "colorbar": {
              "outlinewidth": 0,
              "ticks": ""
             }
            },
            "type": "scatterternary"
           }
          ],
          "surface": [
           {
            "colorbar": {
             "outlinewidth": 0,
             "ticks": ""
            },
            "colorscale": [
             [
              0,
              "#0d0887"
             ],
             [
              0.1111111111111111,
              "#46039f"
             ],
             [
              0.2222222222222222,
              "#7201a8"
             ],
             [
              0.3333333333333333,
              "#9c179e"
             ],
             [
              0.4444444444444444,
              "#bd3786"
             ],
             [
              0.5555555555555556,
              "#d8576b"
             ],
             [
              0.6666666666666666,
              "#ed7953"
             ],
             [
              0.7777777777777778,
              "#fb9f3a"
             ],
             [
              0.8888888888888888,
              "#fdca26"
             ],
             [
              1,
              "#f0f921"
             ]
            ],
            "type": "surface"
           }
          ],
          "table": [
           {
            "cells": {
             "fill": {
              "color": "#EBF0F8"
             },
             "line": {
              "color": "white"
             }
            },
            "header": {
             "fill": {
              "color": "#C8D4E3"
             },
             "line": {
              "color": "white"
             }
            },
            "type": "table"
           }
          ]
         },
         "layout": {
          "annotationdefaults": {
           "arrowcolor": "#2a3f5f",
           "arrowhead": 0,
           "arrowwidth": 1
          },
          "autotypenumbers": "strict",
          "coloraxis": {
           "colorbar": {
            "outlinewidth": 0,
            "ticks": ""
           }
          },
          "colorscale": {
           "diverging": [
            [
             0,
             "#8e0152"
            ],
            [
             0.1,
             "#c51b7d"
            ],
            [
             0.2,
             "#de77ae"
            ],
            [
             0.3,
             "#f1b6da"
            ],
            [
             0.4,
             "#fde0ef"
            ],
            [
             0.5,
             "#f7f7f7"
            ],
            [
             0.6,
             "#e6f5d0"
            ],
            [
             0.7,
             "#b8e186"
            ],
            [
             0.8,
             "#7fbc41"
            ],
            [
             0.9,
             "#4d9221"
            ],
            [
             1,
             "#276419"
            ]
           ],
           "sequential": [
            [
             0,
             "#0d0887"
            ],
            [
             0.1111111111111111,
             "#46039f"
            ],
            [
             0.2222222222222222,
             "#7201a8"
            ],
            [
             0.3333333333333333,
             "#9c179e"
            ],
            [
             0.4444444444444444,
             "#bd3786"
            ],
            [
             0.5555555555555556,
             "#d8576b"
            ],
            [
             0.6666666666666666,
             "#ed7953"
            ],
            [
             0.7777777777777778,
             "#fb9f3a"
            ],
            [
             0.8888888888888888,
             "#fdca26"
            ],
            [
             1,
             "#f0f921"
            ]
           ],
           "sequentialminus": [
            [
             0,
             "#0d0887"
            ],
            [
             0.1111111111111111,
             "#46039f"
            ],
            [
             0.2222222222222222,
             "#7201a8"
            ],
            [
             0.3333333333333333,
             "#9c179e"
            ],
            [
             0.4444444444444444,
             "#bd3786"
            ],
            [
             0.5555555555555556,
             "#d8576b"
            ],
            [
             0.6666666666666666,
             "#ed7953"
            ],
            [
             0.7777777777777778,
             "#fb9f3a"
            ],
            [
             0.8888888888888888,
             "#fdca26"
            ],
            [
             1,
             "#f0f921"
            ]
           ]
          },
          "colorway": [
           "#636efa",
           "#EF553B",
           "#00cc96",
           "#ab63fa",
           "#FFA15A",
           "#19d3f3",
           "#FF6692",
           "#B6E880",
           "#FF97FF",
           "#FECB52"
          ],
          "font": {
           "color": "#2a3f5f"
          },
          "geo": {
           "bgcolor": "white",
           "lakecolor": "white",
           "landcolor": "#E5ECF6",
           "showlakes": true,
           "showland": true,
           "subunitcolor": "white"
          },
          "hoverlabel": {
           "align": "left"
          },
          "hovermode": "closest",
          "mapbox": {
           "style": "light"
          },
          "paper_bgcolor": "white",
          "plot_bgcolor": "#E5ECF6",
          "polar": {
           "angularaxis": {
            "gridcolor": "white",
            "linecolor": "white",
            "ticks": ""
           },
           "bgcolor": "#E5ECF6",
           "radialaxis": {
            "gridcolor": "white",
            "linecolor": "white",
            "ticks": ""
           }
          },
          "scene": {
           "xaxis": {
            "backgroundcolor": "#E5ECF6",
            "gridcolor": "white",
            "gridwidth": 2,
            "linecolor": "white",
            "showbackground": true,
            "ticks": "",
            "zerolinecolor": "white"
           },
           "yaxis": {
            "backgroundcolor": "#E5ECF6",
            "gridcolor": "white",
            "gridwidth": 2,
            "linecolor": "white",
            "showbackground": true,
            "ticks": "",
            "zerolinecolor": "white"
           },
           "zaxis": {
            "backgroundcolor": "#E5ECF6",
            "gridcolor": "white",
            "gridwidth": 2,
            "linecolor": "white",
            "showbackground": true,
            "ticks": "",
            "zerolinecolor": "white"
           }
          },
          "shapedefaults": {
           "line": {
            "color": "#2a3f5f"
           }
          },
          "ternary": {
           "aaxis": {
            "gridcolor": "white",
            "linecolor": "white",
            "ticks": ""
           },
           "baxis": {
            "gridcolor": "white",
            "linecolor": "white",
            "ticks": ""
           },
           "bgcolor": "#E5ECF6",
           "caxis": {
            "gridcolor": "white",
            "linecolor": "white",
            "ticks": ""
           }
          },
          "title": {
           "x": 0.05
          },
          "xaxis": {
           "automargin": true,
           "gridcolor": "white",
           "linecolor": "white",
           "ticks": "",
           "title": {
            "standoff": 15
           },
           "zerolinecolor": "white",
           "zerolinewidth": 2
          },
          "yaxis": {
           "automargin": true,
           "gridcolor": "white",
           "linecolor": "white",
           "ticks": "",
           "title": {
            "standoff": 15
           },
           "zerolinecolor": "white",
           "zerolinewidth": 2
          }
         }
        },
        "xaxis": {
         "anchor": "y",
         "domain": [
          0,
          1
         ],
         "title": {
          "text": "Obesidade"
         }
        },
        "yaxis": {
         "anchor": "x",
         "domain": [
          0,
          1
         ],
         "title": {
          "text": "value"
         }
        }
       }
      }
     },
     "metadata": {},
     "output_type": "display_data"
    }
   ],
   "source": [
    "# Distribuição da Variável Target - Obesidade\n",
    "px.bar(df_obesidade.value_counts('Obesidade') / len(df_obesidade) * 100)"
   ]
  },
  {
   "cell_type": "code",
   "execution_count": 31,
   "metadata": {},
   "outputs": [
    {
     "data": {
      "application/vnd.plotly.v1+json": {
       "config": {
        "plotlyServerURL": "https://plot.ly"
       },
       "data": [
        {
         "alignmentgroup": "True",
         "bingroup": "x",
         "hovertemplate": "Idade=%{x}<br>count=%{y}<extra></extra>",
         "legendgroup": "",
         "marker": {
          "color": "#636efa",
          "pattern": {
           "shape": ""
          }
         },
         "name": "",
         "offsetgroup": "",
         "orientation": "v",
         "showlegend": false,
         "type": "histogram",
         "x": [
          21,
          21,
          23,
          27,
          22,
          29,
          23,
          22,
          24,
          22,
          26,
          21,
          22,
          41,
          23,
          22,
          27,
          29,
          30,
          23,
          22,
          52,
          22,
          22,
          21,
          20,
          21,
          23,
          19,
          23,
          29,
          31,
          24,
          39,
          22,
          21,
          22,
          21,
          23,
          21,
          21,
          23,
          21,
          21,
          21,
          21,
          21,
          21,
          20,
          21,
          21,
          20,
          23,
          23,
          22,
          23,
          22,
          21,
          17,
          20,
          21,
          20,
          22,
          22,
          21,
          21,
          23,
          23,
          30,
          23,
          23,
          22,
          24,
          19,
          24,
          23,
          24,
          24,
          23,
          23,
          19,
          30,
          23,
          19,
          25,
          23,
          21,
          19,
          22,
          29,
          25,
          20,
          55,
          20,
          24,
          26,
          23,
          21,
          21,
          23,
          21,
          22,
          21,
          22,
          38,
          25,
          25,
          22,
          22,
          21,
          21,
          22,
          18,
          22,
          19,
          17,
          15,
          17,
          23,
          19,
          23,
          23,
          21,
          24,
          23,
          18,
          19,
          19,
          20,
          27,
          20,
          23,
          19,
          61,
          30,
          24,
          25,
          44,
          31,
          25,
          23,
          25,
          23,
          34,
          22,
          21,
          24,
          36,
          27,
          32,
          25,
          30,
          38,
          34,
          22,
          31,
          35,
          21,
          40,
          27,
          20,
          55,
          21,
          25,
          35,
          30,
          29,
          20,
          22,
          45,
          22,
          18,
          23,
          18,
          21,
          38,
          18,
          22,
          26,
          21,
          18,
          23,
          22,
          23,
          21,
          31,
          39,
          25,
          35,
          33,
          20,
          26,
          20,
          20,
          23,
          19,
          22,
          41,
          18,
          23,
          23,
          41,
          26,
          29,
          27,
          23,
          19,
          30,
          22,
          22,
          20,
          21,
          24,
          21,
          21,
          21,
          23,
          21,
          21,
          21,
          21,
          23,
          21,
          22,
          23,
          25,
          20,
          24,
          40,
          32,
          20,
          21,
          51,
          34,
          19,
          19,
          21,
          19,
          20,
          19,
          17,
          22,
          20,
          33,
          21,
          20,
          20,
          20,
          21,
          21,
          20,
          20,
          56,
          26,
          22,
          19,
          18,
          19,
          18,
          18,
          21,
          28,
          18,
          23,
          18,
          18,
          39,
          38,
          17,
          23,
          23,
          19,
          18,
          25,
          25,
          18,
          16,
          21,
          32,
          18,
          21,
          18,
          18,
          17,
          20,
          21,
          21,
          18,
          17,
          19,
          16,
          17,
          21,
          19,
          18,
          16,
          21,
          26,
          18,
          23,
          26,
          18,
          16,
          16,
          20,
          23,
          24,
          23,
          20,
          16,
          17,
          17,
          16,
          17,
          26,
          26,
          38,
          18,
          25,
          27,
          21,
          38,
          23,
          18,
          30,
          21,
          18,
          23,
          19,
          19,
          17,
          17,
          27,
          23,
          18,
          19,
          20,
          18,
          17,
          19,
          21,
          20,
          23,
          23,
          18,
          17,
          21,
          17,
          18,
          20,
          17,
          26,
          17,
          24,
          17,
          27,
          17,
          17,
          41,
          33,
          20,
          40,
          37,
          19,
          24,
          24,
          33,
          40,
          37,
          20,
          19,
          17,
          18,
          21,
          18,
          41,
          36,
          18,
          18,
          17,
          25,
          21,
          29,
          17,
          18,
          16,
          18,
          37,
          18,
          16,
          23,
          18,
          18,
          18,
          17,
          20,
          38,
          20,
          21,
          21,
          18,
          26,
          27,
          26,
          34,
          18,
          33,
          19,
          20,
          33,
          20,
          20,
          33,
          33,
          33,
          14,
          34,
          18,
          18,
          29,
          18,
          18,
          19,
          33,
          33,
          19,
          22,
          20,
          23,
          26,
          18,
          18,
          19,
          18,
          19,
          19,
          18,
          18,
          19,
          19,
          18,
          18,
          26,
          18,
          19,
          19,
          19,
          19,
          24,
          18,
          19,
          19,
          23,
          18,
          20,
          18,
          33,
          19,
          19,
          19,
          18,
          21,
          27,
          17,
          18,
          18,
          22,
          22,
          20,
          19,
          20,
          18,
          18,
          18,
          19,
          18,
          18,
          18,
          19,
          17,
          18,
          18,
          20,
          18,
          36,
          21,
          23,
          20,
          21,
          19,
          24,
          25,
          45,
          20,
          18,
          19,
          18,
          20,
          25,
          18,
          26,
          21,
          21,
          18,
          26,
          26,
          21,
          19,
          17,
          22,
          22,
          21,
          22,
          21,
          22,
          21,
          21,
          22,
          23,
          18,
          19,
          19,
          20,
          21,
          20,
          19,
          20,
          21,
          21,
          21,
          19,
          23,
          22,
          23,
          18,
          21,
          18,
          18,
          18,
          18,
          19,
          19,
          19,
          23,
          20,
          23,
          19,
          18,
          19,
          29,
          32,
          24,
          17,
          16,
          16,
          18,
          18,
          18,
          17,
          19,
          18,
          17,
          17,
          16,
          17,
          17,
          19,
          22,
          20,
          22,
          19,
          17,
          19,
          18,
          19,
          17,
          19,
          19,
          19,
          17,
          17,
          18,
          22,
          21,
          23,
          17,
          18,
          18,
          18,
          19,
          20,
          19,
          17,
          18,
          18,
          17,
          17,
          18,
          18,
          18,
          19,
          19,
          19,
          19,
          19,
          19,
          18,
          18,
          18,
          19,
          21,
          22,
          23,
          19,
          20,
          20,
          20,
          20,
          21,
          18,
          19,
          22,
          18,
          34,
          16,
          18,
          17,
          16,
          17,
          22,
          17,
          19,
          19,
          17,
          23,
          18,
          19,
          18,
          17,
          18,
          20,
          19,
          18,
          19,
          17,
          21,
          22,
          20,
          22,
          21,
          23,
          21,
          21,
          23,
          22,
          18,
          19,
          19,
          19,
          21,
          19,
          20,
          20,
          21,
          21,
          21,
          18,
          22,
          19,
          21,
          18,
          21,
          18,
          18,
          19,
          18,
          19,
          19,
          19,
          22,
          20,
          22,
          19,
          18,
          19,
          27,
          25,
          22,
          17,
          16,
          17,
          18,
          18,
          18,
          17,
          19,
          18,
          18,
          16,
          16,
          17,
          17,
          19,
          22,
          20,
          22,
          19,
          16,
          19,
          18,
          19,
          18,
          19,
          20,
          19,
          17,
          17,
          17,
          21,
          21,
          22,
          17,
          18,
          18,
          18,
          19,
          20,
          19,
          17,
          18,
          17,
          17,
          17,
          18,
          18,
          18,
          19,
          19,
          19,
          19,
          19,
          19,
          18,
          18,
          18,
          26,
          21,
          25,
          21,
          21,
          19,
          41,
          21,
          21,
          18,
          23,
          33,
          21,
          21,
          35,
          36,
          21,
          22,
          21,
          21,
          30,
          21,
          19,
          19,
          21,
          21,
          22,
          20,
          21,
          21,
          18,
          21,
          29,
          26,
          22,
          19,
          24,
          32,
          23,
          16,
          16,
          23,
          35,
          23,
          37,
          19,
          16,
          18,
          18,
          17,
          29,
          31,
          18,
          19,
          19,
          18,
          18,
          19,
          28,
          26,
          21,
          22,
          26,
          21,
          21,
          21,
          19,
          19,
          42,
          22,
          21,
          23,
          22,
          18,
          23,
          32,
          32,
          21,
          21,
          21,
          37,
          40,
          38,
          21,
          21,
          21,
          21,
          21,
          21,
          21,
          29,
          31,
          22,
          26,
          19,
          19,
          19,
          19,
          21,
          21,
          21,
          21,
          21,
          19,
          21,
          21,
          21,
          21,
          19,
          21,
          21,
          27,
          28,
          26,
          23,
          20,
          21,
          30,
          30,
          23,
          18,
          18,
          16,
          21,
          27,
          35,
          23,
          23,
          40,
          16,
          16,
          16,
          18,
          18,
          19,
          18,
          17,
          33,
          33,
          18,
          18,
          19,
          19,
          20,
          18,
          18,
          20,
          17,
          25,
          26,
          21,
          21,
          26,
          21,
          21,
          21,
          19,
          38,
          39,
          20,
          20,
          21,
          18,
          23,
          23,
          33,
          21,
          21,
          21,
          21,
          38,
          38,
          36,
          21,
          21,
          22,
          21,
          21,
          21,
          29,
          31,
          20,
          19,
          19,
          21,
          21,
          21,
          22,
          22,
          19,
          21,
          21,
          21,
          21,
          18,
          21,
          21,
          29,
          24,
          26,
          23,
          19,
          22,
          31,
          23,
          22,
          17,
          17,
          16,
          23,
          34,
          22,
          39,
          19,
          16,
          17,
          19,
          19,
          19,
          17,
          17,
          29,
          32,
          31,
          18,
          19,
          19,
          19,
          18,
          18,
          18,
          19,
          21,
          21,
          20,
          21,
          32,
          31,
          29,
          21,
          22,
          28,
          38,
          35,
          20,
          22,
          19,
          20,
          20,
          22,
          22,
          22,
          23,
          24,
          23,
          25,
          31,
          24,
          28,
          17,
          19,
          25,
          22,
          23,
          23,
          25,
          34,
          26,
          55,
          34,
          21,
          18,
          42,
          22,
          28,
          25,
          21,
          23,
          23,
          23,
          38,
          37,
          33,
          34,
          31,
          34,
          18,
          18,
          19,
          50,
          17,
          18,
          18,
          34,
          17,
          33,
          33,
          36,
          20,
          18,
          34,
          23,
          19,
          19,
          29,
          27,
          21,
          33,
          18,
          30,
          33,
          24,
          24,
          19,
          34,
          34,
          23,
          43,
          45,
          22,
          21,
          31,
          31,
          21,
          30,
          34,
          20,
          19,
          20,
          22,
          23,
          24,
          23,
          29,
          24,
          28,
          17,
          19,
          24,
          23,
          28,
          34,
          28,
          55,
          34,
          20,
          38,
          22,
          21,
          25,
          23,
          39,
          34,
          33,
          19,
          19,
          46,
          17,
          18,
          38,
          22,
          33,
          37,
          19,
          37,
          24,
          18,
          27,
          18,
          33,
          18,
          30,
          25,
          18,
          35,
          23,
          39,
          21,
          22,
          21,
          21,
          32,
          32,
          30,
          21,
          22,
          24,
          37,
          34,
          21,
          21,
          19,
          19,
          20,
          22,
          22,
          22,
          23,
          24,
          23,
          26,
          31,
          23,
          26,
          17,
          19,
          25,
          22,
          23,
          22,
          23,
          34,
          25,
          55,
          34,
          21,
          18,
          41,
          21,
          27,
          25,
          21,
          20,
          22,
          23,
          38,
          37,
          34,
          34,
          31,
          33,
          18,
          19,
          19,
          47,
          17,
          17,
          20,
          33,
          17,
          33,
          34,
          35,
          19,
          18,
          31,
          23,
          19,
          19,
          30,
          27,
          21,
          33,
          18,
          32,
          31,
          24,
          24,
          19,
          35,
          33,
          23,
          39,
          45,
          25,
          26,
          30,
          39,
          31,
          25,
          43,
          42,
          22,
          22,
          24,
          21,
          22,
          23,
          37,
          22,
          23,
          22,
          18,
          25,
          40,
          23,
          37,
          31,
          22,
          40,
          23,
          21,
          35,
          22,
          23,
          23,
          40,
          39,
          26,
          23,
          20,
          21,
          23,
          20,
          18,
          18,
          18,
          23,
          23,
          20,
          21,
          18,
          18,
          19,
          22,
          21,
          21,
          22,
          37,
          37,
          17,
          37,
          43,
          18,
          18,
          29,
          18,
          24,
          29,
          18,
          21,
          19,
          18,
          18,
          26,
          25,
          36,
          38,
          30,
          28,
          42,
          47,
          22,
          22,
          23,
          22,
          22,
          23,
          23,
          23,
          38,
          37,
          22,
          22,
          21,
          22,
          16,
          16,
          29,
          29,
          43,
          40,
          22,
          23,
          37,
          37,
          31,
          31,
          21,
          21,
          36,
          39,
          24,
          23,
          35,
          31,
          23,
          23,
          22,
          22,
          41,
          40,
          29,
          30,
          23,
          24,
          17,
          18,
          22,
          22,
          18,
          21,
          18,
          21,
          23,
          21,
          21,
          21,
          18,
          18,
          19,
          18,
          22,
          22,
          19,
          20,
          39,
          38,
          19,
          17,
          38,
          38,
          18,
          18,
          29,
          30,
          18,
          18,
          31,
          29,
          18,
          18,
          21,
          21,
          18,
          18,
          20,
          20,
          26,
          25,
          26,
          25,
          29,
          32,
          38,
          39,
          33,
          26,
          23,
          24,
          42,
          43,
          43,
          39,
          22,
          22,
          22,
          22,
          23,
          22,
          21,
          21,
          22,
          22,
          23,
          23,
          39,
          37,
          22,
          22,
          23,
          23,
          21,
          21,
          18,
          18,
          26,
          25,
          40,
          38,
          24,
          23,
          38,
          37,
          31,
          29,
          21,
          21,
          39,
          36,
          22,
          23,
          22,
          21,
          36,
          37,
          22,
          22,
          22,
          22,
          22,
          22,
          38,
          40,
          40,
          38,
          25,
          26,
          23,
          23,
          20,
          21,
          22,
          22,
          23,
          24,
          20,
          20,
          21,
          18,
          18,
          18,
          20,
          18,
          22,
          23,
          22,
          23,
          20,
          20,
          21,
          21,
          18,
          18,
          18,
          18,
          19,
          19,
          22,
          22,
          22,
          21,
          20,
          19,
          21,
          20,
          39,
          37,
          37,
          37,
          18,
          17,
          39,
          37,
          41,
          43,
          18,
          18,
          18,
          18,
          29,
          28,
          18,
          18,
          23,
          24,
          29,
          27,
          18,
          18,
          21,
          21,
          20,
          20,
          19,
          18,
          18,
          19,
          30,
          25,
          37,
          32,
          27,
          30,
          26,
          34,
          26,
          28,
          27,
          25,
          30,
          31,
          24,
          24,
          41,
          27,
          23,
          22,
          24,
          20,
          30,
          25,
          30,
          28,
          30,
          29,
          31,
          36,
          21,
          23,
          24,
          25,
          31,
          30,
          23,
          23,
          40,
          34,
          22,
          21,
          24,
          20,
          28,
          26,
          25,
          25,
          31,
          40,
          33,
          30,
          30,
          29,
          30,
          30,
          26,
          26,
          37,
          28,
          25,
          25,
          29,
          26,
          26,
          27,
          22,
          24,
          31,
          30,
          31,
          30,
          25,
          25,
          25,
          25,
          38,
          38,
          25,
          32,
          23,
          24,
          24,
          22,
          24,
          30,
          20,
          25,
          30,
          30,
          24,
          24,
          29,
          29,
          37,
          39,
          22,
          22,
          24,
          24,
          31,
          31,
          22,
          22,
          40,
          41,
          21,
          21,
          24,
          24,
          29,
          29,
          25,
          25,
          40,
          33,
          32,
          30,
          29,
          28,
          30,
          30,
          26,
          26,
          33,
          32,
          26,
          25,
          29,
          27,
          28,
          27,
          25,
          24,
          30,
          30,
          31,
          31,
          25,
          25,
          24,
          24,
          40,
          40,
          27,
          30,
          23,
          24,
          22,
          23,
          24,
          26,
          20,
          22,
          28,
          30,
          25,
          25,
          31,
          30,
          28,
          27,
          31,
          30,
          30,
          31,
          31,
          30,
          37,
          37,
          21,
          22,
          25,
          23,
          23,
          24,
          25,
          25,
          30,
          30,
          31,
          30,
          24,
          23,
          23,
          23,
          39,
          36,
          33,
          34,
          22,
          22,
          23,
          22,
          24,
          24,
          20,
          23,
          28,
          29,
          27,
          24,
          25,
          25,
          25,
          25,
          30,
          30,
          40,
          40,
          30,
          33,
          30,
          29,
          31,
          30,
          29,
          30,
          30,
          31,
          30,
          30,
          26,
          26,
          25,
          26,
          37,
          37,
          28,
          27,
          25,
          25,
          25,
          25,
          29,
          29,
          26,
          28,
          26,
          27,
          27,
          26,
          22,
          22,
          23,
          24,
          30,
          31,
          31,
          30,
          31,
          31,
          30,
          30,
          25,
          25,
          25,
          25,
          25,
          25,
          25,
          25,
          37,
          38,
          38,
          38,
          24,
          26,
          33,
          32,
          23,
          23,
          23,
          24,
          24,
          24,
          22,
          23,
          24,
          24,
          30,
          30,
          20,
          20,
          25,
          26,
          25,
          26,
          18,
          18,
          26,
          26,
          25,
          25,
          22,
          21,
          26,
          26,
          21,
          22,
          21,
          21,
          18,
          24,
          26,
          26,
          25,
          26,
          20,
          24,
          25,
          25,
          18,
          18,
          26,
          26,
          25,
          25,
          20,
          20,
          26,
          26,
          21,
          20,
          20,
          20,
          18,
          21,
          26,
          26,
          25,
          26,
          22,
          19,
          25,
          25,
          26,
          25,
          18,
          21,
          18,
          20,
          26,
          26,
          26,
          26,
          25,
          25,
          25,
          25,
          19,
          21,
          21,
          21,
          26,
          26,
          26,
          25,
          21,
          21,
          23,
          24,
          18,
          19,
          21,
          21,
          19,
          21,
          24,
          25,
          26,
          26,
          26,
          26,
          25,
          25,
          26,
          25,
          21,
          20,
          22,
          23,
          25,
          25,
          20,
          19,
          26,
          26,
          25,
          25,
          19,
          20,
          26,
          26,
          21,
          20,
          21,
          21,
          18,
          19,
          26,
          26,
          26,
          26,
          21,
          21,
          25,
          25,
          25,
          25,
          18,
          21,
          20,
          18,
          26,
          26,
          25,
          25,
          25,
          25,
          25,
          25,
          21,
          22,
          21,
          21,
          26,
          26,
          26,
          26,
          21,
          21,
          23,
          23,
          20,
          20,
          19,
          20,
          18,
          19,
          24,
          25,
          26,
          26,
          26,
          26,
          25,
          25,
          26,
          26,
          20,
          20,
          23,
          24,
          25,
          25,
          25,
          25,
          19,
          18,
          19,
          18,
          26,
          26,
          26,
          26,
          25,
          25,
          25,
          25,
          20,
          20,
          21,
          21,
          26,
          26,
          26,
          26,
          21,
          21,
          21,
          21,
          20,
          21,
          20,
          21,
          20,
          18,
          20,
          21,
          26,
          26,
          26,
          26,
          25,
          25,
          26,
          26,
          23,
          23,
          18,
          18,
          25,
          25,
          25,
          25,
          25,
          25,
          25,
          25,
          18,
          20,
          21,
          21,
          18,
          18,
          20,
          20,
          26,
          26,
          26,
          26,
          26,
          25,
          26,
          26,
          25,
          25,
          25,
          25,
          25,
          25,
          25,
          25,
          19,
          18,
          20,
          20,
          21,
          21,
          21,
          21,
          25,
          26,
          26,
          26,
          26,
          26,
          25,
          25,
          20,
          20,
          21,
          21,
          23,
          24,
          24,
          24,
          18,
          18,
          20,
          20,
          21,
          19,
          19,
          21,
          19,
          18,
          21,
          21,
          24,
          25,
          25,
          25,
          26,
          26,
          26,
          26,
          26,
          26,
          26,
          26,
          25,
          25,
          25,
          25,
          25,
          25,
          25,
          25,
          21,
          21,
          21,
          20,
          21,
          22,
          24,
          23
         ],
         "xaxis": "x",
         "yaxis": "y"
        }
       ],
       "layout": {
        "barmode": "relative",
        "legend": {
         "tracegroupgap": 0
        },
        "margin": {
         "t": 60
        },
        "template": {
         "data": {
          "bar": [
           {
            "error_x": {
             "color": "#2a3f5f"
            },
            "error_y": {
             "color": "#2a3f5f"
            },
            "marker": {
             "line": {
              "color": "#E5ECF6",
              "width": 0.5
             },
             "pattern": {
              "fillmode": "overlay",
              "size": 10,
              "solidity": 0.2
             }
            },
            "type": "bar"
           }
          ],
          "barpolar": [
           {
            "marker": {
             "line": {
              "color": "#E5ECF6",
              "width": 0.5
             },
             "pattern": {
              "fillmode": "overlay",
              "size": 10,
              "solidity": 0.2
             }
            },
            "type": "barpolar"
           }
          ],
          "carpet": [
           {
            "aaxis": {
             "endlinecolor": "#2a3f5f",
             "gridcolor": "white",
             "linecolor": "white",
             "minorgridcolor": "white",
             "startlinecolor": "#2a3f5f"
            },
            "baxis": {
             "endlinecolor": "#2a3f5f",
             "gridcolor": "white",
             "linecolor": "white",
             "minorgridcolor": "white",
             "startlinecolor": "#2a3f5f"
            },
            "type": "carpet"
           }
          ],
          "choropleth": [
           {
            "colorbar": {
             "outlinewidth": 0,
             "ticks": ""
            },
            "type": "choropleth"
           }
          ],
          "contour": [
           {
            "colorbar": {
             "outlinewidth": 0,
             "ticks": ""
            },
            "colorscale": [
             [
              0,
              "#0d0887"
             ],
             [
              0.1111111111111111,
              "#46039f"
             ],
             [
              0.2222222222222222,
              "#7201a8"
             ],
             [
              0.3333333333333333,
              "#9c179e"
             ],
             [
              0.4444444444444444,
              "#bd3786"
             ],
             [
              0.5555555555555556,
              "#d8576b"
             ],
             [
              0.6666666666666666,
              "#ed7953"
             ],
             [
              0.7777777777777778,
              "#fb9f3a"
             ],
             [
              0.8888888888888888,
              "#fdca26"
             ],
             [
              1,
              "#f0f921"
             ]
            ],
            "type": "contour"
           }
          ],
          "contourcarpet": [
           {
            "colorbar": {
             "outlinewidth": 0,
             "ticks": ""
            },
            "type": "contourcarpet"
           }
          ],
          "heatmap": [
           {
            "colorbar": {
             "outlinewidth": 0,
             "ticks": ""
            },
            "colorscale": [
             [
              0,
              "#0d0887"
             ],
             [
              0.1111111111111111,
              "#46039f"
             ],
             [
              0.2222222222222222,
              "#7201a8"
             ],
             [
              0.3333333333333333,
              "#9c179e"
             ],
             [
              0.4444444444444444,
              "#bd3786"
             ],
             [
              0.5555555555555556,
              "#d8576b"
             ],
             [
              0.6666666666666666,
              "#ed7953"
             ],
             [
              0.7777777777777778,
              "#fb9f3a"
             ],
             [
              0.8888888888888888,
              "#fdca26"
             ],
             [
              1,
              "#f0f921"
             ]
            ],
            "type": "heatmap"
           }
          ],
          "heatmapgl": [
           {
            "colorbar": {
             "outlinewidth": 0,
             "ticks": ""
            },
            "colorscale": [
             [
              0,
              "#0d0887"
             ],
             [
              0.1111111111111111,
              "#46039f"
             ],
             [
              0.2222222222222222,
              "#7201a8"
             ],
             [
              0.3333333333333333,
              "#9c179e"
             ],
             [
              0.4444444444444444,
              "#bd3786"
             ],
             [
              0.5555555555555556,
              "#d8576b"
             ],
             [
              0.6666666666666666,
              "#ed7953"
             ],
             [
              0.7777777777777778,
              "#fb9f3a"
             ],
             [
              0.8888888888888888,
              "#fdca26"
             ],
             [
              1,
              "#f0f921"
             ]
            ],
            "type": "heatmapgl"
           }
          ],
          "histogram": [
           {
            "marker": {
             "pattern": {
              "fillmode": "overlay",
              "size": 10,
              "solidity": 0.2
             }
            },
            "type": "histogram"
           }
          ],
          "histogram2d": [
           {
            "colorbar": {
             "outlinewidth": 0,
             "ticks": ""
            },
            "colorscale": [
             [
              0,
              "#0d0887"
             ],
             [
              0.1111111111111111,
              "#46039f"
             ],
             [
              0.2222222222222222,
              "#7201a8"
             ],
             [
              0.3333333333333333,
              "#9c179e"
             ],
             [
              0.4444444444444444,
              "#bd3786"
             ],
             [
              0.5555555555555556,
              "#d8576b"
             ],
             [
              0.6666666666666666,
              "#ed7953"
             ],
             [
              0.7777777777777778,
              "#fb9f3a"
             ],
             [
              0.8888888888888888,
              "#fdca26"
             ],
             [
              1,
              "#f0f921"
             ]
            ],
            "type": "histogram2d"
           }
          ],
          "histogram2dcontour": [
           {
            "colorbar": {
             "outlinewidth": 0,
             "ticks": ""
            },
            "colorscale": [
             [
              0,
              "#0d0887"
             ],
             [
              0.1111111111111111,
              "#46039f"
             ],
             [
              0.2222222222222222,
              "#7201a8"
             ],
             [
              0.3333333333333333,
              "#9c179e"
             ],
             [
              0.4444444444444444,
              "#bd3786"
             ],
             [
              0.5555555555555556,
              "#d8576b"
             ],
             [
              0.6666666666666666,
              "#ed7953"
             ],
             [
              0.7777777777777778,
              "#fb9f3a"
             ],
             [
              0.8888888888888888,
              "#fdca26"
             ],
             [
              1,
              "#f0f921"
             ]
            ],
            "type": "histogram2dcontour"
           }
          ],
          "mesh3d": [
           {
            "colorbar": {
             "outlinewidth": 0,
             "ticks": ""
            },
            "type": "mesh3d"
           }
          ],
          "parcoords": [
           {
            "line": {
             "colorbar": {
              "outlinewidth": 0,
              "ticks": ""
             }
            },
            "type": "parcoords"
           }
          ],
          "pie": [
           {
            "automargin": true,
            "type": "pie"
           }
          ],
          "scatter": [
           {
            "fillpattern": {
             "fillmode": "overlay",
             "size": 10,
             "solidity": 0.2
            },
            "type": "scatter"
           }
          ],
          "scatter3d": [
           {
            "line": {
             "colorbar": {
              "outlinewidth": 0,
              "ticks": ""
             }
            },
            "marker": {
             "colorbar": {
              "outlinewidth": 0,
              "ticks": ""
             }
            },
            "type": "scatter3d"
           }
          ],
          "scattercarpet": [
           {
            "marker": {
             "colorbar": {
              "outlinewidth": 0,
              "ticks": ""
             }
            },
            "type": "scattercarpet"
           }
          ],
          "scattergeo": [
           {
            "marker": {
             "colorbar": {
              "outlinewidth": 0,
              "ticks": ""
             }
            },
            "type": "scattergeo"
           }
          ],
          "scattergl": [
           {
            "marker": {
             "colorbar": {
              "outlinewidth": 0,
              "ticks": ""
             }
            },
            "type": "scattergl"
           }
          ],
          "scattermapbox": [
           {
            "marker": {
             "colorbar": {
              "outlinewidth": 0,
              "ticks": ""
             }
            },
            "type": "scattermapbox"
           }
          ],
          "scatterpolar": [
           {
            "marker": {
             "colorbar": {
              "outlinewidth": 0,
              "ticks": ""
             }
            },
            "type": "scatterpolar"
           }
          ],
          "scatterpolargl": [
           {
            "marker": {
             "colorbar": {
              "outlinewidth": 0,
              "ticks": ""
             }
            },
            "type": "scatterpolargl"
           }
          ],
          "scatterternary": [
           {
            "marker": {
             "colorbar": {
              "outlinewidth": 0,
              "ticks": ""
             }
            },
            "type": "scatterternary"
           }
          ],
          "surface": [
           {
            "colorbar": {
             "outlinewidth": 0,
             "ticks": ""
            },
            "colorscale": [
             [
              0,
              "#0d0887"
             ],
             [
              0.1111111111111111,
              "#46039f"
             ],
             [
              0.2222222222222222,
              "#7201a8"
             ],
             [
              0.3333333333333333,
              "#9c179e"
             ],
             [
              0.4444444444444444,
              "#bd3786"
             ],
             [
              0.5555555555555556,
              "#d8576b"
             ],
             [
              0.6666666666666666,
              "#ed7953"
             ],
             [
              0.7777777777777778,
              "#fb9f3a"
             ],
             [
              0.8888888888888888,
              "#fdca26"
             ],
             [
              1,
              "#f0f921"
             ]
            ],
            "type": "surface"
           }
          ],
          "table": [
           {
            "cells": {
             "fill": {
              "color": "#EBF0F8"
             },
             "line": {
              "color": "white"
             }
            },
            "header": {
             "fill": {
              "color": "#C8D4E3"
             },
             "line": {
              "color": "white"
             }
            },
            "type": "table"
           }
          ]
         },
         "layout": {
          "annotationdefaults": {
           "arrowcolor": "#2a3f5f",
           "arrowhead": 0,
           "arrowwidth": 1
          },
          "autotypenumbers": "strict",
          "coloraxis": {
           "colorbar": {
            "outlinewidth": 0,
            "ticks": ""
           }
          },
          "colorscale": {
           "diverging": [
            [
             0,
             "#8e0152"
            ],
            [
             0.1,
             "#c51b7d"
            ],
            [
             0.2,
             "#de77ae"
            ],
            [
             0.3,
             "#f1b6da"
            ],
            [
             0.4,
             "#fde0ef"
            ],
            [
             0.5,
             "#f7f7f7"
            ],
            [
             0.6,
             "#e6f5d0"
            ],
            [
             0.7,
             "#b8e186"
            ],
            [
             0.8,
             "#7fbc41"
            ],
            [
             0.9,
             "#4d9221"
            ],
            [
             1,
             "#276419"
            ]
           ],
           "sequential": [
            [
             0,
             "#0d0887"
            ],
            [
             0.1111111111111111,
             "#46039f"
            ],
            [
             0.2222222222222222,
             "#7201a8"
            ],
            [
             0.3333333333333333,
             "#9c179e"
            ],
            [
             0.4444444444444444,
             "#bd3786"
            ],
            [
             0.5555555555555556,
             "#d8576b"
            ],
            [
             0.6666666666666666,
             "#ed7953"
            ],
            [
             0.7777777777777778,
             "#fb9f3a"
            ],
            [
             0.8888888888888888,
             "#fdca26"
            ],
            [
             1,
             "#f0f921"
            ]
           ],
           "sequentialminus": [
            [
             0,
             "#0d0887"
            ],
            [
             0.1111111111111111,
             "#46039f"
            ],
            [
             0.2222222222222222,
             "#7201a8"
            ],
            [
             0.3333333333333333,
             "#9c179e"
            ],
            [
             0.4444444444444444,
             "#bd3786"
            ],
            [
             0.5555555555555556,
             "#d8576b"
            ],
            [
             0.6666666666666666,
             "#ed7953"
            ],
            [
             0.7777777777777778,
             "#fb9f3a"
            ],
            [
             0.8888888888888888,
             "#fdca26"
            ],
            [
             1,
             "#f0f921"
            ]
           ]
          },
          "colorway": [
           "#636efa",
           "#EF553B",
           "#00cc96",
           "#ab63fa",
           "#FFA15A",
           "#19d3f3",
           "#FF6692",
           "#B6E880",
           "#FF97FF",
           "#FECB52"
          ],
          "font": {
           "color": "#2a3f5f"
          },
          "geo": {
           "bgcolor": "white",
           "lakecolor": "white",
           "landcolor": "#E5ECF6",
           "showlakes": true,
           "showland": true,
           "subunitcolor": "white"
          },
          "hoverlabel": {
           "align": "left"
          },
          "hovermode": "closest",
          "mapbox": {
           "style": "light"
          },
          "paper_bgcolor": "white",
          "plot_bgcolor": "#E5ECF6",
          "polar": {
           "angularaxis": {
            "gridcolor": "white",
            "linecolor": "white",
            "ticks": ""
           },
           "bgcolor": "#E5ECF6",
           "radialaxis": {
            "gridcolor": "white",
            "linecolor": "white",
            "ticks": ""
           }
          },
          "scene": {
           "xaxis": {
            "backgroundcolor": "#E5ECF6",
            "gridcolor": "white",
            "gridwidth": 2,
            "linecolor": "white",
            "showbackground": true,
            "ticks": "",
            "zerolinecolor": "white"
           },
           "yaxis": {
            "backgroundcolor": "#E5ECF6",
            "gridcolor": "white",
            "gridwidth": 2,
            "linecolor": "white",
            "showbackground": true,
            "ticks": "",
            "zerolinecolor": "white"
           },
           "zaxis": {
            "backgroundcolor": "#E5ECF6",
            "gridcolor": "white",
            "gridwidth": 2,
            "linecolor": "white",
            "showbackground": true,
            "ticks": "",
            "zerolinecolor": "white"
           }
          },
          "shapedefaults": {
           "line": {
            "color": "#2a3f5f"
           }
          },
          "ternary": {
           "aaxis": {
            "gridcolor": "white",
            "linecolor": "white",
            "ticks": ""
           },
           "baxis": {
            "gridcolor": "white",
            "linecolor": "white",
            "ticks": ""
           },
           "bgcolor": "#E5ECF6",
           "caxis": {
            "gridcolor": "white",
            "linecolor": "white",
            "ticks": ""
           }
          },
          "title": {
           "x": 0.05
          },
          "xaxis": {
           "automargin": true,
           "gridcolor": "white",
           "linecolor": "white",
           "ticks": "",
           "title": {
            "standoff": 15
           },
           "zerolinecolor": "white",
           "zerolinewidth": 2
          },
          "yaxis": {
           "automargin": true,
           "gridcolor": "white",
           "linecolor": "white",
           "ticks": "",
           "title": {
            "standoff": 15
           },
           "zerolinecolor": "white",
           "zerolinewidth": 2
          }
         }
        },
        "xaxis": {
         "anchor": "y",
         "domain": [
          0,
          1
         ],
         "title": {
          "text": "Idade"
         }
        },
        "yaxis": {
         "anchor": "x",
         "domain": [
          0,
          1
         ],
         "title": {
          "text": "count"
         }
        }
       }
      }
     },
     "metadata": {},
     "output_type": "display_data"
    }
   ],
   "source": [
    "# Análise Univariada\n",
    "px.histogram(df_obesidade, x = 'Idade')"
   ]
  },
  {
   "cell_type": "code",
   "execution_count": 33,
   "metadata": {},
   "outputs": [
    {
     "data": {
      "application/vnd.plotly.v1+json": {
       "config": {
        "plotlyServerURL": "https://plot.ly"
       },
       "data": [
        {
         "alignmentgroup": "True",
         "hovertemplate": "Idade=%{y}<extra></extra>",
         "legendgroup": "",
         "marker": {
          "color": "#636efa"
         },
         "name": "",
         "notched": false,
         "offsetgroup": "",
         "orientation": "v",
         "showlegend": false,
         "type": "box",
         "x0": " ",
         "xaxis": "x",
         "y": [
          21,
          21,
          23,
          27,
          22,
          29,
          23,
          22,
          24,
          22,
          26,
          21,
          22,
          41,
          23,
          22,
          27,
          29,
          30,
          23,
          22,
          52,
          22,
          22,
          21,
          20,
          21,
          23,
          19,
          23,
          29,
          31,
          24,
          39,
          22,
          21,
          22,
          21,
          23,
          21,
          21,
          23,
          21,
          21,
          21,
          21,
          21,
          21,
          20,
          21,
          21,
          20,
          23,
          23,
          22,
          23,
          22,
          21,
          17,
          20,
          21,
          20,
          22,
          22,
          21,
          21,
          23,
          23,
          30,
          23,
          23,
          22,
          24,
          19,
          24,
          23,
          24,
          24,
          23,
          23,
          19,
          30,
          23,
          19,
          25,
          23,
          21,
          19,
          22,
          29,
          25,
          20,
          55,
          20,
          24,
          26,
          23,
          21,
          21,
          23,
          21,
          22,
          21,
          22,
          38,
          25,
          25,
          22,
          22,
          21,
          21,
          22,
          18,
          22,
          19,
          17,
          15,
          17,
          23,
          19,
          23,
          23,
          21,
          24,
          23,
          18,
          19,
          19,
          20,
          27,
          20,
          23,
          19,
          61,
          30,
          24,
          25,
          44,
          31,
          25,
          23,
          25,
          23,
          34,
          22,
          21,
          24,
          36,
          27,
          32,
          25,
          30,
          38,
          34,
          22,
          31,
          35,
          21,
          40,
          27,
          20,
          55,
          21,
          25,
          35,
          30,
          29,
          20,
          22,
          45,
          22,
          18,
          23,
          18,
          21,
          38,
          18,
          22,
          26,
          21,
          18,
          23,
          22,
          23,
          21,
          31,
          39,
          25,
          35,
          33,
          20,
          26,
          20,
          20,
          23,
          19,
          22,
          41,
          18,
          23,
          23,
          41,
          26,
          29,
          27,
          23,
          19,
          30,
          22,
          22,
          20,
          21,
          24,
          21,
          21,
          21,
          23,
          21,
          21,
          21,
          21,
          23,
          21,
          22,
          23,
          25,
          20,
          24,
          40,
          32,
          20,
          21,
          51,
          34,
          19,
          19,
          21,
          19,
          20,
          19,
          17,
          22,
          20,
          33,
          21,
          20,
          20,
          20,
          21,
          21,
          20,
          20,
          56,
          26,
          22,
          19,
          18,
          19,
          18,
          18,
          21,
          28,
          18,
          23,
          18,
          18,
          39,
          38,
          17,
          23,
          23,
          19,
          18,
          25,
          25,
          18,
          16,
          21,
          32,
          18,
          21,
          18,
          18,
          17,
          20,
          21,
          21,
          18,
          17,
          19,
          16,
          17,
          21,
          19,
          18,
          16,
          21,
          26,
          18,
          23,
          26,
          18,
          16,
          16,
          20,
          23,
          24,
          23,
          20,
          16,
          17,
          17,
          16,
          17,
          26,
          26,
          38,
          18,
          25,
          27,
          21,
          38,
          23,
          18,
          30,
          21,
          18,
          23,
          19,
          19,
          17,
          17,
          27,
          23,
          18,
          19,
          20,
          18,
          17,
          19,
          21,
          20,
          23,
          23,
          18,
          17,
          21,
          17,
          18,
          20,
          17,
          26,
          17,
          24,
          17,
          27,
          17,
          17,
          41,
          33,
          20,
          40,
          37,
          19,
          24,
          24,
          33,
          40,
          37,
          20,
          19,
          17,
          18,
          21,
          18,
          41,
          36,
          18,
          18,
          17,
          25,
          21,
          29,
          17,
          18,
          16,
          18,
          37,
          18,
          16,
          23,
          18,
          18,
          18,
          17,
          20,
          38,
          20,
          21,
          21,
          18,
          26,
          27,
          26,
          34,
          18,
          33,
          19,
          20,
          33,
          20,
          20,
          33,
          33,
          33,
          14,
          34,
          18,
          18,
          29,
          18,
          18,
          19,
          33,
          33,
          19,
          22,
          20,
          23,
          26,
          18,
          18,
          19,
          18,
          19,
          19,
          18,
          18,
          19,
          19,
          18,
          18,
          26,
          18,
          19,
          19,
          19,
          19,
          24,
          18,
          19,
          19,
          23,
          18,
          20,
          18,
          33,
          19,
          19,
          19,
          18,
          21,
          27,
          17,
          18,
          18,
          22,
          22,
          20,
          19,
          20,
          18,
          18,
          18,
          19,
          18,
          18,
          18,
          19,
          17,
          18,
          18,
          20,
          18,
          36,
          21,
          23,
          20,
          21,
          19,
          24,
          25,
          45,
          20,
          18,
          19,
          18,
          20,
          25,
          18,
          26,
          21,
          21,
          18,
          26,
          26,
          21,
          19,
          17,
          22,
          22,
          21,
          22,
          21,
          22,
          21,
          21,
          22,
          23,
          18,
          19,
          19,
          20,
          21,
          20,
          19,
          20,
          21,
          21,
          21,
          19,
          23,
          22,
          23,
          18,
          21,
          18,
          18,
          18,
          18,
          19,
          19,
          19,
          23,
          20,
          23,
          19,
          18,
          19,
          29,
          32,
          24,
          17,
          16,
          16,
          18,
          18,
          18,
          17,
          19,
          18,
          17,
          17,
          16,
          17,
          17,
          19,
          22,
          20,
          22,
          19,
          17,
          19,
          18,
          19,
          17,
          19,
          19,
          19,
          17,
          17,
          18,
          22,
          21,
          23,
          17,
          18,
          18,
          18,
          19,
          20,
          19,
          17,
          18,
          18,
          17,
          17,
          18,
          18,
          18,
          19,
          19,
          19,
          19,
          19,
          19,
          18,
          18,
          18,
          19,
          21,
          22,
          23,
          19,
          20,
          20,
          20,
          20,
          21,
          18,
          19,
          22,
          18,
          34,
          16,
          18,
          17,
          16,
          17,
          22,
          17,
          19,
          19,
          17,
          23,
          18,
          19,
          18,
          17,
          18,
          20,
          19,
          18,
          19,
          17,
          21,
          22,
          20,
          22,
          21,
          23,
          21,
          21,
          23,
          22,
          18,
          19,
          19,
          19,
          21,
          19,
          20,
          20,
          21,
          21,
          21,
          18,
          22,
          19,
          21,
          18,
          21,
          18,
          18,
          19,
          18,
          19,
          19,
          19,
          22,
          20,
          22,
          19,
          18,
          19,
          27,
          25,
          22,
          17,
          16,
          17,
          18,
          18,
          18,
          17,
          19,
          18,
          18,
          16,
          16,
          17,
          17,
          19,
          22,
          20,
          22,
          19,
          16,
          19,
          18,
          19,
          18,
          19,
          20,
          19,
          17,
          17,
          17,
          21,
          21,
          22,
          17,
          18,
          18,
          18,
          19,
          20,
          19,
          17,
          18,
          17,
          17,
          17,
          18,
          18,
          18,
          19,
          19,
          19,
          19,
          19,
          19,
          18,
          18,
          18,
          26,
          21,
          25,
          21,
          21,
          19,
          41,
          21,
          21,
          18,
          23,
          33,
          21,
          21,
          35,
          36,
          21,
          22,
          21,
          21,
          30,
          21,
          19,
          19,
          21,
          21,
          22,
          20,
          21,
          21,
          18,
          21,
          29,
          26,
          22,
          19,
          24,
          32,
          23,
          16,
          16,
          23,
          35,
          23,
          37,
          19,
          16,
          18,
          18,
          17,
          29,
          31,
          18,
          19,
          19,
          18,
          18,
          19,
          28,
          26,
          21,
          22,
          26,
          21,
          21,
          21,
          19,
          19,
          42,
          22,
          21,
          23,
          22,
          18,
          23,
          32,
          32,
          21,
          21,
          21,
          37,
          40,
          38,
          21,
          21,
          21,
          21,
          21,
          21,
          21,
          29,
          31,
          22,
          26,
          19,
          19,
          19,
          19,
          21,
          21,
          21,
          21,
          21,
          19,
          21,
          21,
          21,
          21,
          19,
          21,
          21,
          27,
          28,
          26,
          23,
          20,
          21,
          30,
          30,
          23,
          18,
          18,
          16,
          21,
          27,
          35,
          23,
          23,
          40,
          16,
          16,
          16,
          18,
          18,
          19,
          18,
          17,
          33,
          33,
          18,
          18,
          19,
          19,
          20,
          18,
          18,
          20,
          17,
          25,
          26,
          21,
          21,
          26,
          21,
          21,
          21,
          19,
          38,
          39,
          20,
          20,
          21,
          18,
          23,
          23,
          33,
          21,
          21,
          21,
          21,
          38,
          38,
          36,
          21,
          21,
          22,
          21,
          21,
          21,
          29,
          31,
          20,
          19,
          19,
          21,
          21,
          21,
          22,
          22,
          19,
          21,
          21,
          21,
          21,
          18,
          21,
          21,
          29,
          24,
          26,
          23,
          19,
          22,
          31,
          23,
          22,
          17,
          17,
          16,
          23,
          34,
          22,
          39,
          19,
          16,
          17,
          19,
          19,
          19,
          17,
          17,
          29,
          32,
          31,
          18,
          19,
          19,
          19,
          18,
          18,
          18,
          19,
          21,
          21,
          20,
          21,
          32,
          31,
          29,
          21,
          22,
          28,
          38,
          35,
          20,
          22,
          19,
          20,
          20,
          22,
          22,
          22,
          23,
          24,
          23,
          25,
          31,
          24,
          28,
          17,
          19,
          25,
          22,
          23,
          23,
          25,
          34,
          26,
          55,
          34,
          21,
          18,
          42,
          22,
          28,
          25,
          21,
          23,
          23,
          23,
          38,
          37,
          33,
          34,
          31,
          34,
          18,
          18,
          19,
          50,
          17,
          18,
          18,
          34,
          17,
          33,
          33,
          36,
          20,
          18,
          34,
          23,
          19,
          19,
          29,
          27,
          21,
          33,
          18,
          30,
          33,
          24,
          24,
          19,
          34,
          34,
          23,
          43,
          45,
          22,
          21,
          31,
          31,
          21,
          30,
          34,
          20,
          19,
          20,
          22,
          23,
          24,
          23,
          29,
          24,
          28,
          17,
          19,
          24,
          23,
          28,
          34,
          28,
          55,
          34,
          20,
          38,
          22,
          21,
          25,
          23,
          39,
          34,
          33,
          19,
          19,
          46,
          17,
          18,
          38,
          22,
          33,
          37,
          19,
          37,
          24,
          18,
          27,
          18,
          33,
          18,
          30,
          25,
          18,
          35,
          23,
          39,
          21,
          22,
          21,
          21,
          32,
          32,
          30,
          21,
          22,
          24,
          37,
          34,
          21,
          21,
          19,
          19,
          20,
          22,
          22,
          22,
          23,
          24,
          23,
          26,
          31,
          23,
          26,
          17,
          19,
          25,
          22,
          23,
          22,
          23,
          34,
          25,
          55,
          34,
          21,
          18,
          41,
          21,
          27,
          25,
          21,
          20,
          22,
          23,
          38,
          37,
          34,
          34,
          31,
          33,
          18,
          19,
          19,
          47,
          17,
          17,
          20,
          33,
          17,
          33,
          34,
          35,
          19,
          18,
          31,
          23,
          19,
          19,
          30,
          27,
          21,
          33,
          18,
          32,
          31,
          24,
          24,
          19,
          35,
          33,
          23,
          39,
          45,
          25,
          26,
          30,
          39,
          31,
          25,
          43,
          42,
          22,
          22,
          24,
          21,
          22,
          23,
          37,
          22,
          23,
          22,
          18,
          25,
          40,
          23,
          37,
          31,
          22,
          40,
          23,
          21,
          35,
          22,
          23,
          23,
          40,
          39,
          26,
          23,
          20,
          21,
          23,
          20,
          18,
          18,
          18,
          23,
          23,
          20,
          21,
          18,
          18,
          19,
          22,
          21,
          21,
          22,
          37,
          37,
          17,
          37,
          43,
          18,
          18,
          29,
          18,
          24,
          29,
          18,
          21,
          19,
          18,
          18,
          26,
          25,
          36,
          38,
          30,
          28,
          42,
          47,
          22,
          22,
          23,
          22,
          22,
          23,
          23,
          23,
          38,
          37,
          22,
          22,
          21,
          22,
          16,
          16,
          29,
          29,
          43,
          40,
          22,
          23,
          37,
          37,
          31,
          31,
          21,
          21,
          36,
          39,
          24,
          23,
          35,
          31,
          23,
          23,
          22,
          22,
          41,
          40,
          29,
          30,
          23,
          24,
          17,
          18,
          22,
          22,
          18,
          21,
          18,
          21,
          23,
          21,
          21,
          21,
          18,
          18,
          19,
          18,
          22,
          22,
          19,
          20,
          39,
          38,
          19,
          17,
          38,
          38,
          18,
          18,
          29,
          30,
          18,
          18,
          31,
          29,
          18,
          18,
          21,
          21,
          18,
          18,
          20,
          20,
          26,
          25,
          26,
          25,
          29,
          32,
          38,
          39,
          33,
          26,
          23,
          24,
          42,
          43,
          43,
          39,
          22,
          22,
          22,
          22,
          23,
          22,
          21,
          21,
          22,
          22,
          23,
          23,
          39,
          37,
          22,
          22,
          23,
          23,
          21,
          21,
          18,
          18,
          26,
          25,
          40,
          38,
          24,
          23,
          38,
          37,
          31,
          29,
          21,
          21,
          39,
          36,
          22,
          23,
          22,
          21,
          36,
          37,
          22,
          22,
          22,
          22,
          22,
          22,
          38,
          40,
          40,
          38,
          25,
          26,
          23,
          23,
          20,
          21,
          22,
          22,
          23,
          24,
          20,
          20,
          21,
          18,
          18,
          18,
          20,
          18,
          22,
          23,
          22,
          23,
          20,
          20,
          21,
          21,
          18,
          18,
          18,
          18,
          19,
          19,
          22,
          22,
          22,
          21,
          20,
          19,
          21,
          20,
          39,
          37,
          37,
          37,
          18,
          17,
          39,
          37,
          41,
          43,
          18,
          18,
          18,
          18,
          29,
          28,
          18,
          18,
          23,
          24,
          29,
          27,
          18,
          18,
          21,
          21,
          20,
          20,
          19,
          18,
          18,
          19,
          30,
          25,
          37,
          32,
          27,
          30,
          26,
          34,
          26,
          28,
          27,
          25,
          30,
          31,
          24,
          24,
          41,
          27,
          23,
          22,
          24,
          20,
          30,
          25,
          30,
          28,
          30,
          29,
          31,
          36,
          21,
          23,
          24,
          25,
          31,
          30,
          23,
          23,
          40,
          34,
          22,
          21,
          24,
          20,
          28,
          26,
          25,
          25,
          31,
          40,
          33,
          30,
          30,
          29,
          30,
          30,
          26,
          26,
          37,
          28,
          25,
          25,
          29,
          26,
          26,
          27,
          22,
          24,
          31,
          30,
          31,
          30,
          25,
          25,
          25,
          25,
          38,
          38,
          25,
          32,
          23,
          24,
          24,
          22,
          24,
          30,
          20,
          25,
          30,
          30,
          24,
          24,
          29,
          29,
          37,
          39,
          22,
          22,
          24,
          24,
          31,
          31,
          22,
          22,
          40,
          41,
          21,
          21,
          24,
          24,
          29,
          29,
          25,
          25,
          40,
          33,
          32,
          30,
          29,
          28,
          30,
          30,
          26,
          26,
          33,
          32,
          26,
          25,
          29,
          27,
          28,
          27,
          25,
          24,
          30,
          30,
          31,
          31,
          25,
          25,
          24,
          24,
          40,
          40,
          27,
          30,
          23,
          24,
          22,
          23,
          24,
          26,
          20,
          22,
          28,
          30,
          25,
          25,
          31,
          30,
          28,
          27,
          31,
          30,
          30,
          31,
          31,
          30,
          37,
          37,
          21,
          22,
          25,
          23,
          23,
          24,
          25,
          25,
          30,
          30,
          31,
          30,
          24,
          23,
          23,
          23,
          39,
          36,
          33,
          34,
          22,
          22,
          23,
          22,
          24,
          24,
          20,
          23,
          28,
          29,
          27,
          24,
          25,
          25,
          25,
          25,
          30,
          30,
          40,
          40,
          30,
          33,
          30,
          29,
          31,
          30,
          29,
          30,
          30,
          31,
          30,
          30,
          26,
          26,
          25,
          26,
          37,
          37,
          28,
          27,
          25,
          25,
          25,
          25,
          29,
          29,
          26,
          28,
          26,
          27,
          27,
          26,
          22,
          22,
          23,
          24,
          30,
          31,
          31,
          30,
          31,
          31,
          30,
          30,
          25,
          25,
          25,
          25,
          25,
          25,
          25,
          25,
          37,
          38,
          38,
          38,
          24,
          26,
          33,
          32,
          23,
          23,
          23,
          24,
          24,
          24,
          22,
          23,
          24,
          24,
          30,
          30,
          20,
          20,
          25,
          26,
          25,
          26,
          18,
          18,
          26,
          26,
          25,
          25,
          22,
          21,
          26,
          26,
          21,
          22,
          21,
          21,
          18,
          24,
          26,
          26,
          25,
          26,
          20,
          24,
          25,
          25,
          18,
          18,
          26,
          26,
          25,
          25,
          20,
          20,
          26,
          26,
          21,
          20,
          20,
          20,
          18,
          21,
          26,
          26,
          25,
          26,
          22,
          19,
          25,
          25,
          26,
          25,
          18,
          21,
          18,
          20,
          26,
          26,
          26,
          26,
          25,
          25,
          25,
          25,
          19,
          21,
          21,
          21,
          26,
          26,
          26,
          25,
          21,
          21,
          23,
          24,
          18,
          19,
          21,
          21,
          19,
          21,
          24,
          25,
          26,
          26,
          26,
          26,
          25,
          25,
          26,
          25,
          21,
          20,
          22,
          23,
          25,
          25,
          20,
          19,
          26,
          26,
          25,
          25,
          19,
          20,
          26,
          26,
          21,
          20,
          21,
          21,
          18,
          19,
          26,
          26,
          26,
          26,
          21,
          21,
          25,
          25,
          25,
          25,
          18,
          21,
          20,
          18,
          26,
          26,
          25,
          25,
          25,
          25,
          25,
          25,
          21,
          22,
          21,
          21,
          26,
          26,
          26,
          26,
          21,
          21,
          23,
          23,
          20,
          20,
          19,
          20,
          18,
          19,
          24,
          25,
          26,
          26,
          26,
          26,
          25,
          25,
          26,
          26,
          20,
          20,
          23,
          24,
          25,
          25,
          25,
          25,
          19,
          18,
          19,
          18,
          26,
          26,
          26,
          26,
          25,
          25,
          25,
          25,
          20,
          20,
          21,
          21,
          26,
          26,
          26,
          26,
          21,
          21,
          21,
          21,
          20,
          21,
          20,
          21,
          20,
          18,
          20,
          21,
          26,
          26,
          26,
          26,
          25,
          25,
          26,
          26,
          23,
          23,
          18,
          18,
          25,
          25,
          25,
          25,
          25,
          25,
          25,
          25,
          18,
          20,
          21,
          21,
          18,
          18,
          20,
          20,
          26,
          26,
          26,
          26,
          26,
          25,
          26,
          26,
          25,
          25,
          25,
          25,
          25,
          25,
          25,
          25,
          19,
          18,
          20,
          20,
          21,
          21,
          21,
          21,
          25,
          26,
          26,
          26,
          26,
          26,
          25,
          25,
          20,
          20,
          21,
          21,
          23,
          24,
          24,
          24,
          18,
          18,
          20,
          20,
          21,
          19,
          19,
          21,
          19,
          18,
          21,
          21,
          24,
          25,
          25,
          25,
          26,
          26,
          26,
          26,
          26,
          26,
          26,
          26,
          25,
          25,
          25,
          25,
          25,
          25,
          25,
          25,
          21,
          21,
          21,
          20,
          21,
          22,
          24,
          23
         ],
         "y0": " ",
         "yaxis": "y"
        }
       ],
       "layout": {
        "boxmode": "group",
        "legend": {
         "tracegroupgap": 0
        },
        "margin": {
         "t": 60
        },
        "template": {
         "data": {
          "bar": [
           {
            "error_x": {
             "color": "#2a3f5f"
            },
            "error_y": {
             "color": "#2a3f5f"
            },
            "marker": {
             "line": {
              "color": "#E5ECF6",
              "width": 0.5
             },
             "pattern": {
              "fillmode": "overlay",
              "size": 10,
              "solidity": 0.2
             }
            },
            "type": "bar"
           }
          ],
          "barpolar": [
           {
            "marker": {
             "line": {
              "color": "#E5ECF6",
              "width": 0.5
             },
             "pattern": {
              "fillmode": "overlay",
              "size": 10,
              "solidity": 0.2
             }
            },
            "type": "barpolar"
           }
          ],
          "carpet": [
           {
            "aaxis": {
             "endlinecolor": "#2a3f5f",
             "gridcolor": "white",
             "linecolor": "white",
             "minorgridcolor": "white",
             "startlinecolor": "#2a3f5f"
            },
            "baxis": {
             "endlinecolor": "#2a3f5f",
             "gridcolor": "white",
             "linecolor": "white",
             "minorgridcolor": "white",
             "startlinecolor": "#2a3f5f"
            },
            "type": "carpet"
           }
          ],
          "choropleth": [
           {
            "colorbar": {
             "outlinewidth": 0,
             "ticks": ""
            },
            "type": "choropleth"
           }
          ],
          "contour": [
           {
            "colorbar": {
             "outlinewidth": 0,
             "ticks": ""
            },
            "colorscale": [
             [
              0,
              "#0d0887"
             ],
             [
              0.1111111111111111,
              "#46039f"
             ],
             [
              0.2222222222222222,
              "#7201a8"
             ],
             [
              0.3333333333333333,
              "#9c179e"
             ],
             [
              0.4444444444444444,
              "#bd3786"
             ],
             [
              0.5555555555555556,
              "#d8576b"
             ],
             [
              0.6666666666666666,
              "#ed7953"
             ],
             [
              0.7777777777777778,
              "#fb9f3a"
             ],
             [
              0.8888888888888888,
              "#fdca26"
             ],
             [
              1,
              "#f0f921"
             ]
            ],
            "type": "contour"
           }
          ],
          "contourcarpet": [
           {
            "colorbar": {
             "outlinewidth": 0,
             "ticks": ""
            },
            "type": "contourcarpet"
           }
          ],
          "heatmap": [
           {
            "colorbar": {
             "outlinewidth": 0,
             "ticks": ""
            },
            "colorscale": [
             [
              0,
              "#0d0887"
             ],
             [
              0.1111111111111111,
              "#46039f"
             ],
             [
              0.2222222222222222,
              "#7201a8"
             ],
             [
              0.3333333333333333,
              "#9c179e"
             ],
             [
              0.4444444444444444,
              "#bd3786"
             ],
             [
              0.5555555555555556,
              "#d8576b"
             ],
             [
              0.6666666666666666,
              "#ed7953"
             ],
             [
              0.7777777777777778,
              "#fb9f3a"
             ],
             [
              0.8888888888888888,
              "#fdca26"
             ],
             [
              1,
              "#f0f921"
             ]
            ],
            "type": "heatmap"
           }
          ],
          "heatmapgl": [
           {
            "colorbar": {
             "outlinewidth": 0,
             "ticks": ""
            },
            "colorscale": [
             [
              0,
              "#0d0887"
             ],
             [
              0.1111111111111111,
              "#46039f"
             ],
             [
              0.2222222222222222,
              "#7201a8"
             ],
             [
              0.3333333333333333,
              "#9c179e"
             ],
             [
              0.4444444444444444,
              "#bd3786"
             ],
             [
              0.5555555555555556,
              "#d8576b"
             ],
             [
              0.6666666666666666,
              "#ed7953"
             ],
             [
              0.7777777777777778,
              "#fb9f3a"
             ],
             [
              0.8888888888888888,
              "#fdca26"
             ],
             [
              1,
              "#f0f921"
             ]
            ],
            "type": "heatmapgl"
           }
          ],
          "histogram": [
           {
            "marker": {
             "pattern": {
              "fillmode": "overlay",
              "size": 10,
              "solidity": 0.2
             }
            },
            "type": "histogram"
           }
          ],
          "histogram2d": [
           {
            "colorbar": {
             "outlinewidth": 0,
             "ticks": ""
            },
            "colorscale": [
             [
              0,
              "#0d0887"
             ],
             [
              0.1111111111111111,
              "#46039f"
             ],
             [
              0.2222222222222222,
              "#7201a8"
             ],
             [
              0.3333333333333333,
              "#9c179e"
             ],
             [
              0.4444444444444444,
              "#bd3786"
             ],
             [
              0.5555555555555556,
              "#d8576b"
             ],
             [
              0.6666666666666666,
              "#ed7953"
             ],
             [
              0.7777777777777778,
              "#fb9f3a"
             ],
             [
              0.8888888888888888,
              "#fdca26"
             ],
             [
              1,
              "#f0f921"
             ]
            ],
            "type": "histogram2d"
           }
          ],
          "histogram2dcontour": [
           {
            "colorbar": {
             "outlinewidth": 0,
             "ticks": ""
            },
            "colorscale": [
             [
              0,
              "#0d0887"
             ],
             [
              0.1111111111111111,
              "#46039f"
             ],
             [
              0.2222222222222222,
              "#7201a8"
             ],
             [
              0.3333333333333333,
              "#9c179e"
             ],
             [
              0.4444444444444444,
              "#bd3786"
             ],
             [
              0.5555555555555556,
              "#d8576b"
             ],
             [
              0.6666666666666666,
              "#ed7953"
             ],
             [
              0.7777777777777778,
              "#fb9f3a"
             ],
             [
              0.8888888888888888,
              "#fdca26"
             ],
             [
              1,
              "#f0f921"
             ]
            ],
            "type": "histogram2dcontour"
           }
          ],
          "mesh3d": [
           {
            "colorbar": {
             "outlinewidth": 0,
             "ticks": ""
            },
            "type": "mesh3d"
           }
          ],
          "parcoords": [
           {
            "line": {
             "colorbar": {
              "outlinewidth": 0,
              "ticks": ""
             }
            },
            "type": "parcoords"
           }
          ],
          "pie": [
           {
            "automargin": true,
            "type": "pie"
           }
          ],
          "scatter": [
           {
            "fillpattern": {
             "fillmode": "overlay",
             "size": 10,
             "solidity": 0.2
            },
            "type": "scatter"
           }
          ],
          "scatter3d": [
           {
            "line": {
             "colorbar": {
              "outlinewidth": 0,
              "ticks": ""
             }
            },
            "marker": {
             "colorbar": {
              "outlinewidth": 0,
              "ticks": ""
             }
            },
            "type": "scatter3d"
           }
          ],
          "scattercarpet": [
           {
            "marker": {
             "colorbar": {
              "outlinewidth": 0,
              "ticks": ""
             }
            },
            "type": "scattercarpet"
           }
          ],
          "scattergeo": [
           {
            "marker": {
             "colorbar": {
              "outlinewidth": 0,
              "ticks": ""
             }
            },
            "type": "scattergeo"
           }
          ],
          "scattergl": [
           {
            "marker": {
             "colorbar": {
              "outlinewidth": 0,
              "ticks": ""
             }
            },
            "type": "scattergl"
           }
          ],
          "scattermapbox": [
           {
            "marker": {
             "colorbar": {
              "outlinewidth": 0,
              "ticks": ""
             }
            },
            "type": "scattermapbox"
           }
          ],
          "scatterpolar": [
           {
            "marker": {
             "colorbar": {
              "outlinewidth": 0,
              "ticks": ""
             }
            },
            "type": "scatterpolar"
           }
          ],
          "scatterpolargl": [
           {
            "marker": {
             "colorbar": {
              "outlinewidth": 0,
              "ticks": ""
             }
            },
            "type": "scatterpolargl"
           }
          ],
          "scatterternary": [
           {
            "marker": {
             "colorbar": {
              "outlinewidth": 0,
              "ticks": ""
             }
            },
            "type": "scatterternary"
           }
          ],
          "surface": [
           {
            "colorbar": {
             "outlinewidth": 0,
             "ticks": ""
            },
            "colorscale": [
             [
              0,
              "#0d0887"
             ],
             [
              0.1111111111111111,
              "#46039f"
             ],
             [
              0.2222222222222222,
              "#7201a8"
             ],
             [
              0.3333333333333333,
              "#9c179e"
             ],
             [
              0.4444444444444444,
              "#bd3786"
             ],
             [
              0.5555555555555556,
              "#d8576b"
             ],
             [
              0.6666666666666666,
              "#ed7953"
             ],
             [
              0.7777777777777778,
              "#fb9f3a"
             ],
             [
              0.8888888888888888,
              "#fdca26"
             ],
             [
              1,
              "#f0f921"
             ]
            ],
            "type": "surface"
           }
          ],
          "table": [
           {
            "cells": {
             "fill": {
              "color": "#EBF0F8"
             },
             "line": {
              "color": "white"
             }
            },
            "header": {
             "fill": {
              "color": "#C8D4E3"
             },
             "line": {
              "color": "white"
             }
            },
            "type": "table"
           }
          ]
         },
         "layout": {
          "annotationdefaults": {
           "arrowcolor": "#2a3f5f",
           "arrowhead": 0,
           "arrowwidth": 1
          },
          "autotypenumbers": "strict",
          "coloraxis": {
           "colorbar": {
            "outlinewidth": 0,
            "ticks": ""
           }
          },
          "colorscale": {
           "diverging": [
            [
             0,
             "#8e0152"
            ],
            [
             0.1,
             "#c51b7d"
            ],
            [
             0.2,
             "#de77ae"
            ],
            [
             0.3,
             "#f1b6da"
            ],
            [
             0.4,
             "#fde0ef"
            ],
            [
             0.5,
             "#f7f7f7"
            ],
            [
             0.6,
             "#e6f5d0"
            ],
            [
             0.7,
             "#b8e186"
            ],
            [
             0.8,
             "#7fbc41"
            ],
            [
             0.9,
             "#4d9221"
            ],
            [
             1,
             "#276419"
            ]
           ],
           "sequential": [
            [
             0,
             "#0d0887"
            ],
            [
             0.1111111111111111,
             "#46039f"
            ],
            [
             0.2222222222222222,
             "#7201a8"
            ],
            [
             0.3333333333333333,
             "#9c179e"
            ],
            [
             0.4444444444444444,
             "#bd3786"
            ],
            [
             0.5555555555555556,
             "#d8576b"
            ],
            [
             0.6666666666666666,
             "#ed7953"
            ],
            [
             0.7777777777777778,
             "#fb9f3a"
            ],
            [
             0.8888888888888888,
             "#fdca26"
            ],
            [
             1,
             "#f0f921"
            ]
           ],
           "sequentialminus": [
            [
             0,
             "#0d0887"
            ],
            [
             0.1111111111111111,
             "#46039f"
            ],
            [
             0.2222222222222222,
             "#7201a8"
            ],
            [
             0.3333333333333333,
             "#9c179e"
            ],
            [
             0.4444444444444444,
             "#bd3786"
            ],
            [
             0.5555555555555556,
             "#d8576b"
            ],
            [
             0.6666666666666666,
             "#ed7953"
            ],
            [
             0.7777777777777778,
             "#fb9f3a"
            ],
            [
             0.8888888888888888,
             "#fdca26"
            ],
            [
             1,
             "#f0f921"
            ]
           ]
          },
          "colorway": [
           "#636efa",
           "#EF553B",
           "#00cc96",
           "#ab63fa",
           "#FFA15A",
           "#19d3f3",
           "#FF6692",
           "#B6E880",
           "#FF97FF",
           "#FECB52"
          ],
          "font": {
           "color": "#2a3f5f"
          },
          "geo": {
           "bgcolor": "white",
           "lakecolor": "white",
           "landcolor": "#E5ECF6",
           "showlakes": true,
           "showland": true,
           "subunitcolor": "white"
          },
          "hoverlabel": {
           "align": "left"
          },
          "hovermode": "closest",
          "mapbox": {
           "style": "light"
          },
          "paper_bgcolor": "white",
          "plot_bgcolor": "#E5ECF6",
          "polar": {
           "angularaxis": {
            "gridcolor": "white",
            "linecolor": "white",
            "ticks": ""
           },
           "bgcolor": "#E5ECF6",
           "radialaxis": {
            "gridcolor": "white",
            "linecolor": "white",
            "ticks": ""
           }
          },
          "scene": {
           "xaxis": {
            "backgroundcolor": "#E5ECF6",
            "gridcolor": "white",
            "gridwidth": 2,
            "linecolor": "white",
            "showbackground": true,
            "ticks": "",
            "zerolinecolor": "white"
           },
           "yaxis": {
            "backgroundcolor": "#E5ECF6",
            "gridcolor": "white",
            "gridwidth": 2,
            "linecolor": "white",
            "showbackground": true,
            "ticks": "",
            "zerolinecolor": "white"
           },
           "zaxis": {
            "backgroundcolor": "#E5ECF6",
            "gridcolor": "white",
            "gridwidth": 2,
            "linecolor": "white",
            "showbackground": true,
            "ticks": "",
            "zerolinecolor": "white"
           }
          },
          "shapedefaults": {
           "line": {
            "color": "#2a3f5f"
           }
          },
          "ternary": {
           "aaxis": {
            "gridcolor": "white",
            "linecolor": "white",
            "ticks": ""
           },
           "baxis": {
            "gridcolor": "white",
            "linecolor": "white",
            "ticks": ""
           },
           "bgcolor": "#E5ECF6",
           "caxis": {
            "gridcolor": "white",
            "linecolor": "white",
            "ticks": ""
           }
          },
          "title": {
           "x": 0.05
          },
          "xaxis": {
           "automargin": true,
           "gridcolor": "white",
           "linecolor": "white",
           "ticks": "",
           "title": {
            "standoff": 15
           },
           "zerolinecolor": "white",
           "zerolinewidth": 2
          },
          "yaxis": {
           "automargin": true,
           "gridcolor": "white",
           "linecolor": "white",
           "ticks": "",
           "title": {
            "standoff": 15
           },
           "zerolinecolor": "white",
           "zerolinewidth": 2
          }
         }
        },
        "xaxis": {
         "anchor": "y",
         "domain": [
          0,
          1
         ]
        },
        "yaxis": {
         "anchor": "x",
         "domain": [
          0,
          1
         ],
         "title": {
          "text": "Idade"
         }
        }
       }
      }
     },
     "metadata": {},
     "output_type": "display_data"
    }
   ],
   "source": [
    "# Análise Univariada - Idade\n",
    "px.box(df_obesidade, y = 'Idade')"
   ]
  }
 ],
 "metadata": {
  "kernelspec": {
   "display_name": "Classification_NaiveBayes_IA_Python-90s-jBkK",
   "language": "python",
   "name": "python3"
  },
  "language_info": {
   "codemirror_mode": {
    "name": "ipython",
    "version": 3
   },
   "file_extension": ".py",
   "mimetype": "text/x-python",
   "name": "python",
   "nbconvert_exporter": "python",
   "pygments_lexer": "ipython3",
   "version": "3.12.2"
  }
 },
 "nbformat": 4,
 "nbformat_minor": 2
}
